{
 "cells": [
  {
   "cell_type": "markdown",
   "metadata": {},
   "source": [
    "## Table of Contents\n",
    "\n",
    "1. 探索的データ分析: EDA\n",
    "2. よりたくさんの特徴量の作成\n",
    "3. 性能を上げるための tips\n",
    "2. LightGBM によるモデルの作成\n",
    "3. 特徴重要度の可視化\n",
    "4. Adversarial Validation"
   ]
  },
  {
   "cell_type": "code",
   "execution_count": 1,
   "metadata": {},
   "outputs": [],
   "source": [
    "import os\n",
    "\n",
    "import numpy as np\n",
    "import pandas as pd\n",
    "import matplotlib.pyplot as plt\n",
    "import seaborn as sns\n",
    "\n",
    "from sklearn.model_selection import StratifiedKFold\n",
    "from sklearn.metrics import average_precision_score, roc_auc_score, log_loss"
   ]
  },
  {
   "cell_type": "code",
   "execution_count": 2,
   "metadata": {},
   "outputs": [],
   "source": [
    "input_dir = '/analysis/data/atmaCup7/inputs/'\n",
    "output_dir = '/analysis/data/atmaCup7/outputs/'\n",
    "\n",
    "train_df = pd.read_csv(os.path.join(input_dir, 'train.csv'))\n",
    "test_df = pd.read_csv(os.path.join(input_dir, 'test.csv'))"
   ]
  },
  {
   "cell_type": "code",
   "execution_count": 3,
   "metadata": {},
   "outputs": [],
   "source": [
    "campaign_df = pd.read_csv(os.path.join(input_dir, 'campaign.csv'))"
   ]
  },
  {
   "cell_type": "code",
   "execution_count": 4,
   "metadata": {},
   "outputs": [],
   "source": [
    "def preprocess(input_df):\n",
    "    \"\"\"\n",
    "    下ごしらえ. \n",
    "    いろいろ merge する方法も共有されています \n",
    "    https://www.guruguru.science/competitions/12/discussions/b6b3dd96-1dc9-4e03-be99-6e4dcde75e61/\n",
    "    数が多いので campaign だけ相手にすることにします\n",
    "    \"\"\"\n",
    "    out_df = pd.merge(input_df, campaign_df[['id', 'mst_advertiser_order_id']], left_on='campaign_id', right_on='id', how='left')\n",
    "    out_df = out_df.drop(columns=['id'])\n",
    "    return out_df"
   ]
  },
  {
   "cell_type": "code",
   "execution_count": 5,
   "metadata": {},
   "outputs": [],
   "source": [
    "train_df = preprocess(train_df)\n",
    "test_df = preprocess(test_df)"
   ]
  },
  {
   "cell_type": "code",
   "execution_count": 6,
   "metadata": {},
   "outputs": [],
   "source": [
    "whole_df = pd.concat([train_df, test_df], ignore_index=True)"
   ]
  },
  {
   "cell_type": "markdown",
   "metadata": {},
   "source": [
    "## 探索的データ分析: EDA\n",
    "\n",
    "EDA (探索的データ分析) とはデータをいろいろと探索的に調べて、データが何を示しているのかについての理解を深める作業のことです。分析作業に入る前にこのフェーズを行うことが多いです。\n",
    "\n",
    "いろいろな観点で可視化等を行なうことが多いですが主に以下の2点にしたがってデータを見ていくことが多いです。\n",
    "\n",
    "* カラムごとの性質を理解する (pandas-profiling / sweetviz)\n",
    "    * [Pandas Profiling Report : train test | sinchir0 san](https://www.guruguru.science/competitions/12/discussions/7962772f-59df-4bd0-b7af-6b0c1576f4b6/)\n",
    "    * [Sweetviz を用いた EDA | hmdhmd san](https://www.guruguru.science/competitions/12/discussions/c3259cad-7f44-4ec3-9c1f-8c477b8a121f/)\n",
    "* train / test の分布がどう違うのかを理解する\n",
    "    * [trainとtestの分布に注意してFirst EDA | hirayuki san](https://www.guruguru.science/competitions/12/discussions/f67b3413-2782-4125-8e10-f4b60c59caee/)\n",
    "\n",
    "### train / test の分布の違いを理解する必要性について\n",
    "\n",
    "train データは我々が(基本的に)すべての情報を与えられているデータです。一方でテストデータは予測すべき対象のデータで train とは異なっています。テストデータに対しての予測性能を上げるという観点では、この異なり方がどうなっているかを知ることがとても大事です。\n",
    "\n",
    "真に我々が為し遂げたいことは「test データに対する予測を精度良く行なうことが可能な汎化したモデル」です。しかし学習自体は train で行いますから train / test がずれている要素を学習してしまうと train でせっかく見つけた特徴が test では現れないために予測性能が大幅に低下するということが発生します。\n",
    "\n",
    "例えば train で target をよく説明できる変数があるのですが、これは test データだとすべて欠損しているとしましょう。今回のコンペティションでは特定のカラムは train にしか与えられていないですので、これらを使って学習したことに相当しますね。例えばそれが `\"cv_at\"` だったとします。"
   ]
  },
  {
   "cell_type": "code",
   "execution_count": 7,
   "metadata": {},
   "outputs": [
    {
     "data": {
      "text/plain": [
       "{'click_or_view_at', 'cv_at', 'last_cv_interval', 'last_paid_interval'}"
      ]
     },
     "execution_count": 7,
     "metadata": {},
     "output_type": "execute_result"
    }
   ],
   "source": [
    "set(train_df.columns) - set(test_df.columns) - { 'target' }"
   ]
  },
  {
   "cell_type": "markdown",
   "metadata": {},
   "source": [
    "`\"cv_at\"` の値を元にモデルが予測を行っていれば、テストの時はその値が無いのですから正確な予測できないことは想像できるでしょう。\n",
    "\n",
    "上記の例では全て欠損している極端な例を取り上げましたが、欠損はしていないけれど train の延長として考えることができない値が入っているカラムは要注意です。\n",
    "例えば `os_version` で出現回数の割合を見てみましょう。"
   ]
  },
  {
   "cell_type": "code",
   "execution_count": 8,
   "metadata": {},
   "outputs": [
    {
     "data": {
      "text/plain": [
       "<matplotlib.axes._subplots.AxesSubplot at 0x7fe652060a90>"
      ]
     },
     "execution_count": 8,
     "metadata": {},
     "output_type": "execute_result"
    },
    {
     "data": {
      "image/png": "[encoded data removed]",
      "text/plain": [
       "<Figure size 720x288 with 1 Axes>"
      ]
     },
     "metadata": {
      "needs_background": "light"
     },
     "output_type": "display_data"
    }
   ],
   "source": [
    "_df = pd.concat([\n",
    "    test_df['os_version'].value_counts(normalize=True).rename('test'),\n",
    "    train_df['os_version'].value_counts(normalize=True).rename('train'),\n",
    "], axis=1).fillna(0)\n",
    "\n",
    "_df.head(30).plot(kind='bar', figsize=(10, 4))"
   ]
  },
  {
   "cell_type": "markdown",
   "metadata": {},
   "source": [
    "これを見ると, test では出現が多いけど train には全く無い version が含まれていることがわかります。もしこの os_vesion をカテゴリとみなし 学習している場合 `13.5.1` は null と変わりないと判断されてしまいます。\n",
    "\n",
    "ですから例えば「バージョンが高いかどうか」という観点で数値化して特徴化する, などの方法を取ったほうが良い可能性があります。(たとえば 13.3.x -> 0 / 13.4.x -> 1 / 13.5.x -> 2 とみなすなど)"
   ]
  },
  {
   "cell_type": "markdown",
   "metadata": {},
   "source": [
    "上記では `value_counts` を使って出現回数で比較しました。その他に venn 図を使って共通集合がどのぐらいあるかを可視化する方法もあります。"
   ]
  },
  {
   "cell_type": "code",
   "execution_count": 9,
   "metadata": {},
   "outputs": [],
   "source": [
    "from matplotlib_venn import venn2"
   ]
  },
  {
   "cell_type": "code",
   "execution_count": 10,
   "metadata": {},
   "outputs": [
    {
     "data": {
      "text/plain": [
       "<matplotlib_venn._common.VennDiagram at 0x7fe6e3ce8110>"
      ]
     },
     "execution_count": 10,
     "metadata": {},
     "output_type": "execute_result"
    },
    {
     "data": {
      "image/png": "[encoded data removed]",
      "text/plain": [
       "<Figure size 432x288 with 1 Axes>"
      ]
     },
     "metadata": {},
     "output_type": "display_data"
    }
   ],
   "source": [
    "venn2(subsets=(set(train_df['uid'].unique()), set(test_df['uid'].unique())), set_labels=('Train UID', 'Test UID'))"
   ]
  },
  {
   "cell_type": "markdown",
   "metadata": {},
   "source": [
    "### よりたくさんの特徴量の作成\n",
    "\n",
    "本チュートリアルでは以下の3つの特徴量を作っていきます。\n",
    "\n",
    "1. 連続変数特徴量\n",
    "2. カテゴリ変数の特徴量化\n",
    "    * CountEncoding\n",
    "    * OneHotEncoding\n",
    "3. 集約を使った特徴量\n",
    "    * uid に関する集約特徴\n",
    "    * より凝った集約特徴量"
   ]
  },
  {
   "cell_type": "markdown",
   "metadata": {},
   "source": [
    "### 連続変数の特徴量\n",
    "\n",
    "連続変数の場合そのままモデルが解釈出来るためコピーすればOKです。通常欠損値があると欠損のことを考慮する必要があります(モデルによっては欠損値が扱えない場合があるからです)。その場合平均値や中央値、更には別の方法で欠損を埋める必要がありますが lightGBM などの GBDT は欠損をそのまま自然に扱えるため、基本的に気にする必要はありません。"
   ]
  },
  {
   "cell_type": "code",
   "execution_count": 11,
   "metadata": {},
   "outputs": [],
   "source": [
    "def create_continuous_features(input_df):\n",
    "    use_columns = [\n",
    "        # 連続変数\n",
    "        'max_login_interval', \n",
    "        'frequency', \n",
    "        'login_frequency', \n",
    "        'last_login_interval',\n",
    "        'from_click',\n",
    "    ]\n",
    "    return input_df[use_columns].copy()\n",
    "    \n",
    "def create_category_features(input_df):\n",
    "    use_columns = [\n",
    "        # category 系の id. label-encoding として使う\n",
    "        'adnw_id',\n",
    "        'adspot_id',\n",
    "        'adspot_video_format_id',\n",
    "        'game_feed_asset_type_id'\n",
    "    ]\n",
    "    return input_df[use_columns].copy()"
   ]
  },
  {
   "cell_type": "markdown",
   "metadata": {},
   "source": [
    "## カテゴリ変数の変換\n",
    "\n",
    "### CountEncoding\n",
    "\n",
    "特定の値が何回出てくるか、に変換する方法です。\n",
    "\n",
    "たとえば `[1, 1, 0, 2, 1]` という列があったとするとこれは `[3, 3, 1, 1, 3]` に変換されます。\n",
    "\n",
    "このような変換をすることによって「そのレコードのカテゴリ値が珍しいかどうか」という情報をモデルが捉えられるようになります。  \n",
    "(先の例だと `0` と `2` は同じ 1 になり、値自体は異なりますが珍しさでは同じ、という情報量になっているわけですね。)"
   ]
  },
  {
   "cell_type": "code",
   "execution_count": 12,
   "metadata": {},
   "outputs": [],
   "source": [
    "c = 'category_id'"
   ]
  },
  {
   "cell_type": "code",
   "execution_count": 13,
   "metadata": {},
   "outputs": [
    {
     "data": {
      "text/html": [
       "<div>\n",
       "<style scoped>\n",
       "    .dataframe tbody tr th:only-of-type {\n",
       "        vertical-align: middle;\n",
       "    }\n",
       "\n",
       "    .dataframe tbody tr th {\n",
       "        vertical-align: top;\n",
       "    }\n",
       "\n",
       "    .dataframe thead th {\n",
       "        text-align: right;\n",
       "    }\n",
       "</style>\n",
       "<table border=\"1\" class=\"dataframe\">\n",
       "  <thead>\n",
       "    <tr style=\"text-align: right;\">\n",
       "      <th></th>\n",
       "      <th>category_id</th>\n",
       "    </tr>\n",
       "  </thead>\n",
       "  <tbody>\n",
       "    <tr>\n",
       "      <th>0</th>\n",
       "      <td>38372</td>\n",
       "    </tr>\n",
       "    <tr>\n",
       "      <th>1</th>\n",
       "      <td>2205632</td>\n",
       "    </tr>\n",
       "    <tr>\n",
       "      <th>2</th>\n",
       "      <td>2205632</td>\n",
       "    </tr>\n",
       "    <tr>\n",
       "      <th>3</th>\n",
       "      <td>2205632</td>\n",
       "    </tr>\n",
       "    <tr>\n",
       "      <th>4</th>\n",
       "      <td>2205632</td>\n",
       "    </tr>\n",
       "    <tr>\n",
       "      <th>...</th>\n",
       "      <td>...</td>\n",
       "    </tr>\n",
       "    <tr>\n",
       "      <th>2387685</th>\n",
       "      <td>2205632</td>\n",
       "    </tr>\n",
       "    <tr>\n",
       "      <th>2387686</th>\n",
       "      <td>2205632</td>\n",
       "    </tr>\n",
       "    <tr>\n",
       "      <th>2387687</th>\n",
       "      <td>1387</td>\n",
       "    </tr>\n",
       "    <tr>\n",
       "      <th>2387688</th>\n",
       "      <td>2205632</td>\n",
       "    </tr>\n",
       "    <tr>\n",
       "      <th>2387689</th>\n",
       "      <td>2205632</td>\n",
       "    </tr>\n",
       "  </tbody>\n",
       "</table>\n",
       "<p>2387690 rows × 1 columns</p>\n",
       "</div>"
      ],
      "text/plain": [
       "         category_id\n",
       "0              38372\n",
       "1            2205632\n",
       "2            2205632\n",
       "3            2205632\n",
       "4            2205632\n",
       "...              ...\n",
       "2387685      2205632\n",
       "2387686      2205632\n",
       "2387687         1387\n",
       "2387688      2205632\n",
       "2387689      2205632\n",
       "\n",
       "[2387690 rows x 1 columns]"
      ]
     },
     "execution_count": 13,
     "metadata": {},
     "output_type": "execute_result"
    }
   ],
   "source": [
    "# 1. value count を使う方法\n",
    "series = whole_df[c]\n",
    "vc = series.value_counts(dropna=False)\n",
    "pd.DataFrame(series.map(vc))"
   ]
  },
  {
   "cell_type": "code",
   "execution_count": 14,
   "metadata": {},
   "outputs": [
    {
     "data": {
      "text/html": [
       "<div>\n",
       "<style scoped>\n",
       "    .dataframe tbody tr th:only-of-type {\n",
       "        vertical-align: middle;\n",
       "    }\n",
       "\n",
       "    .dataframe tbody tr th {\n",
       "        vertical-align: top;\n",
       "    }\n",
       "\n",
       "    .dataframe thead th {\n",
       "        text-align: right;\n",
       "    }\n",
       "</style>\n",
       "<table border=\"1\" class=\"dataframe\">\n",
       "  <thead>\n",
       "    <tr style=\"text-align: right;\">\n",
       "      <th></th>\n",
       "      <th>count</th>\n",
       "    </tr>\n",
       "  </thead>\n",
       "  <tbody>\n",
       "    <tr>\n",
       "      <th>0</th>\n",
       "      <td>38372</td>\n",
       "    </tr>\n",
       "    <tr>\n",
       "      <th>1</th>\n",
       "      <td>2205632</td>\n",
       "    </tr>\n",
       "    <tr>\n",
       "      <th>2</th>\n",
       "      <td>2205632</td>\n",
       "    </tr>\n",
       "    <tr>\n",
       "      <th>3</th>\n",
       "      <td>2205632</td>\n",
       "    </tr>\n",
       "    <tr>\n",
       "      <th>4</th>\n",
       "      <td>2205632</td>\n",
       "    </tr>\n",
       "    <tr>\n",
       "      <th>...</th>\n",
       "      <td>...</td>\n",
       "    </tr>\n",
       "    <tr>\n",
       "      <th>2387685</th>\n",
       "      <td>2205632</td>\n",
       "    </tr>\n",
       "    <tr>\n",
       "      <th>2387686</th>\n",
       "      <td>2205632</td>\n",
       "    </tr>\n",
       "    <tr>\n",
       "      <th>2387687</th>\n",
       "      <td>1387</td>\n",
       "    </tr>\n",
       "    <tr>\n",
       "      <th>2387688</th>\n",
       "      <td>2205632</td>\n",
       "    </tr>\n",
       "    <tr>\n",
       "      <th>2387689</th>\n",
       "      <td>2205632</td>\n",
       "    </tr>\n",
       "  </tbody>\n",
       "</table>\n",
       "<p>2387690 rows × 1 columns</p>\n",
       "</div>"
      ],
      "text/plain": [
       "           count\n",
       "0          38372\n",
       "1        2205632\n",
       "2        2205632\n",
       "3        2205632\n",
       "4        2205632\n",
       "...          ...\n",
       "2387685  2205632\n",
       "2387686  2205632\n",
       "2387687     1387\n",
       "2387688  2205632\n",
       "2387689  2205632\n",
       "\n",
       "[2387690 rows x 1 columns]"
      ]
     },
     "execution_count": 14,
     "metadata": {},
     "output_type": "execute_result"
    }
   ],
   "source": [
    "# 2. groupby で作る方法もあるよ\n",
    "_count = whole_df.groupby(c)['request_id'].count().rename('count')\n",
    "_df = pd.merge(whole_df[c], _count, on=c, how='left')\n",
    "_df = _df.drop(columns=[c])\n",
    "_df"
   ]
  },
  {
   "cell_type": "code",
   "execution_count": 15,
   "metadata": {},
   "outputs": [],
   "source": [
    "def create_count_encoding_features(input_df):\n",
    "    use_columns = [\n",
    "        'category_id', \n",
    "        'adnw_id', \n",
    "        'adspot_id', \n",
    "        'app_id', \n",
    "        'advertiser_id',\n",
    "        'uid', \n",
    "        'game_feed_id' # and more\n",
    "    ]\n",
    "    \n",
    "    out_df = pd.DataFrame()\n",
    "    \n",
    "    for c in use_columns:\n",
    "        series = whole_df[c]\n",
    "        vc = series.value_counts(dropna=False)\n",
    "        \n",
    "        _df = pd.DataFrame(input_df[c].map(vc))\n",
    "        out_df = pd.concat([out_df, _df], axis=1)\n",
    "        \n",
    "    out_df = out_df.add_prefix('CE_')\n",
    "    return out_df"
   ]
  },
  {
   "cell_type": "code",
   "execution_count": 58,
   "metadata": {},
   "outputs": [],
   "source": [
    "_df = create_count_encoding_features(train_df)\n",
    "assert len(_df) == len(train_df)"
   ]
  },
  {
   "cell_type": "markdown",
   "metadata": {},
   "source": [
    "### One-Hot Encoding\n",
    "\n",
    "あるカテゴリ列のユニーク数だけの列を作って, 特定の行がその値に一致している時に 1 そうでない時に 0 になるような行列に変換する方法です。\n",
    "\n",
    "例えば `[3, 1, 1, 2]` という列があったとするとこれは\n",
    "\n",
    "```\n",
    "[\n",
    "    [0, 0, 1],\n",
    "    [1, 0, 0],\n",
    "    [1, 0, 0],\n",
    "    [0, 1, 0]\n",
    "]\n",
    "```\n",
    "\n",
    "というように変換されます。\n",
    "\n",
    "#### 注意\n",
    "\n",
    "one-hot encoding はカテゴリのユニーク数分だけの列を作ります。そのためユニーク数が多い列 (カーディナリティ(濃度)が高いといったりもします) に対して適用すると超巨大なスパース行列ができてしまいます。こうなるとメモリも大量に必要としますし LightGBM のような木構造には不向きですから使わないようにしてください。そのような場合には LabelEncoding 或いは TargetEncoding など変換後に列が増えない変換を検討してみてください。"
   ]
  },
  {
   "cell_type": "code",
   "execution_count": 17,
   "metadata": {},
   "outputs": [],
   "source": [
    "c = 'auction_type_id'\n",
    "vc = whole_df[c].value_counts()"
   ]
  },
  {
   "cell_type": "code",
   "execution_count": 18,
   "metadata": {},
   "outputs": [
    {
     "data": {
      "text/plain": [
       "3"
      ]
     },
     "execution_count": 18,
     "metadata": {},
     "output_type": "execute_result"
    }
   ],
   "source": [
    "# カーディナリティチェック. 3 ならいけるかな\n",
    "len(vc)"
   ]
  },
  {
   "cell_type": "code",
   "execution_count": 19,
   "metadata": {},
   "outputs": [],
   "source": [
    "series = train_df[c]\n",
    "cat = pd.Categorical(series, categories=whole_df[c].dropna().unique())"
   ]
  },
  {
   "cell_type": "code",
   "execution_count": 20,
   "metadata": {},
   "outputs": [
    {
     "data": {
      "text/plain": [
       "[1.0, 2.0, 1.0, 1.0, 4.0, ..., 2.0, 1.0, 2.0, 1.0, 1.0]\n",
       "Length: 1997595\n",
       "Categories (3, float64): [1.0, 2.0, 4.0]"
      ]
     },
     "execution_count": 20,
     "metadata": {},
     "output_type": "execute_result"
    }
   ],
   "source": [
    "cat"
   ]
  },
  {
   "cell_type": "code",
   "execution_count": 21,
   "metadata": {},
   "outputs": [
    {
     "data": {
      "text/html": [
       "<div>\n",
       "<style scoped>\n",
       "    .dataframe tbody tr th:only-of-type {\n",
       "        vertical-align: middle;\n",
       "    }\n",
       "\n",
       "    .dataframe tbody tr th {\n",
       "        vertical-align: top;\n",
       "    }\n",
       "\n",
       "    .dataframe thead th {\n",
       "        text-align: right;\n",
       "    }\n",
       "</style>\n",
       "<table border=\"1\" class=\"dataframe\">\n",
       "  <thead>\n",
       "    <tr style=\"text-align: right;\">\n",
       "      <th></th>\n",
       "      <th>1.0</th>\n",
       "      <th>2.0</th>\n",
       "      <th>4.0</th>\n",
       "    </tr>\n",
       "  </thead>\n",
       "  <tbody>\n",
       "    <tr>\n",
       "      <th>0</th>\n",
       "      <td>1</td>\n",
       "      <td>0</td>\n",
       "      <td>0</td>\n",
       "    </tr>\n",
       "    <tr>\n",
       "      <th>1</th>\n",
       "      <td>0</td>\n",
       "      <td>1</td>\n",
       "      <td>0</td>\n",
       "    </tr>\n",
       "    <tr>\n",
       "      <th>2</th>\n",
       "      <td>1</td>\n",
       "      <td>0</td>\n",
       "      <td>0</td>\n",
       "    </tr>\n",
       "    <tr>\n",
       "      <th>3</th>\n",
       "      <td>1</td>\n",
       "      <td>0</td>\n",
       "      <td>0</td>\n",
       "    </tr>\n",
       "    <tr>\n",
       "      <th>4</th>\n",
       "      <td>0</td>\n",
       "      <td>0</td>\n",
       "      <td>1</td>\n",
       "    </tr>\n",
       "    <tr>\n",
       "      <th>...</th>\n",
       "      <td>...</td>\n",
       "      <td>...</td>\n",
       "      <td>...</td>\n",
       "    </tr>\n",
       "    <tr>\n",
       "      <th>1997590</th>\n",
       "      <td>0</td>\n",
       "      <td>1</td>\n",
       "      <td>0</td>\n",
       "    </tr>\n",
       "    <tr>\n",
       "      <th>1997591</th>\n",
       "      <td>1</td>\n",
       "      <td>0</td>\n",
       "      <td>0</td>\n",
       "    </tr>\n",
       "    <tr>\n",
       "      <th>1997592</th>\n",
       "      <td>0</td>\n",
       "      <td>1</td>\n",
       "      <td>0</td>\n",
       "    </tr>\n",
       "    <tr>\n",
       "      <th>1997593</th>\n",
       "      <td>1</td>\n",
       "      <td>0</td>\n",
       "      <td>0</td>\n",
       "    </tr>\n",
       "    <tr>\n",
       "      <th>1997594</th>\n",
       "      <td>1</td>\n",
       "      <td>0</td>\n",
       "      <td>0</td>\n",
       "    </tr>\n",
       "  </tbody>\n",
       "</table>\n",
       "<p>1997595 rows × 3 columns</p>\n",
       "</div>"
      ],
      "text/plain": [
       "         1.0  2.0  4.0\n",
       "0          1    0    0\n",
       "1          0    1    0\n",
       "2          1    0    0\n",
       "3          1    0    0\n",
       "4          0    0    1\n",
       "...      ...  ...  ...\n",
       "1997590    0    1    0\n",
       "1997591    1    0    0\n",
       "1997592    0    1    0\n",
       "1997593    1    0    0\n",
       "1997594    1    0    0\n",
       "\n",
       "[1997595 rows x 3 columns]"
      ]
     },
     "execution_count": 21,
     "metadata": {},
     "output_type": "execute_result"
    }
   ],
   "source": [
    "# pd.get_dummies で one-hot の形式に変換できます\n",
    "pd.get_dummies(cat)"
   ]
  },
  {
   "cell_type": "code",
   "execution_count": 22,
   "metadata": {},
   "outputs": [],
   "source": [
    "def create_onehot_encoding_features(input_df):\n",
    "    use_columns = [\n",
    "        # カーディナリティが比較的低めなものに絞っています\n",
    "        'auction_type_id', 'header_bidding', 'is_interstitial', 'user_type_id' # and more\n",
    "    ]\n",
    "    \n",
    "    out_df = pd.DataFrame()\n",
    "    for c in use_columns:\n",
    "        series = input_df[c]\n",
    "        cat = pd.Categorical(series, categories=whole_df[c].dropna().unique())\n",
    "        _df = pd.get_dummies(cat)\n",
    "        _df.columns = _df.columns.tolist()\n",
    "        _df = _df.add_prefix(c + '=')\n",
    "        out_df = pd.concat([out_df, _df], axis=1)\n",
    "        \n",
    "    return out_df.add_prefix('OH_')"
   ]
  },
  {
   "cell_type": "code",
   "execution_count": 23,
   "metadata": {},
   "outputs": [
    {
     "data": {
      "text/html": [
       "<div>\n",
       "<style scoped>\n",
       "    .dataframe tbody tr th:only-of-type {\n",
       "        vertical-align: middle;\n",
       "    }\n",
       "\n",
       "    .dataframe tbody tr th {\n",
       "        vertical-align: top;\n",
       "    }\n",
       "\n",
       "    .dataframe thead th {\n",
       "        text-align: right;\n",
       "    }\n",
       "</style>\n",
       "<table border=\"1\" class=\"dataframe\">\n",
       "  <thead>\n",
       "    <tr style=\"text-align: right;\">\n",
       "      <th></th>\n",
       "      <th>OH_auction_type_id=1.0</th>\n",
       "      <th>OH_auction_type_id=2.0</th>\n",
       "      <th>OH_auction_type_id=4.0</th>\n",
       "      <th>OH_header_bidding=0.0</th>\n",
       "      <th>OH_header_bidding=1.0</th>\n",
       "      <th>OH_is_interstitial=1.0</th>\n",
       "      <th>OH_is_interstitial=0.0</th>\n",
       "      <th>OH_user_type_id=1</th>\n",
       "      <th>OH_user_type_id=2</th>\n",
       "      <th>OH_user_type_id=4</th>\n",
       "      <th>OH_user_type_id=3</th>\n",
       "    </tr>\n",
       "  </thead>\n",
       "  <tbody>\n",
       "    <tr>\n",
       "      <th>0</th>\n",
       "      <td>1</td>\n",
       "      <td>0</td>\n",
       "      <td>0</td>\n",
       "      <td>1</td>\n",
       "      <td>0</td>\n",
       "      <td>1</td>\n",
       "      <td>0</td>\n",
       "      <td>1</td>\n",
       "      <td>0</td>\n",
       "      <td>0</td>\n",
       "      <td>0</td>\n",
       "    </tr>\n",
       "    <tr>\n",
       "      <th>1</th>\n",
       "      <td>0</td>\n",
       "      <td>1</td>\n",
       "      <td>0</td>\n",
       "      <td>1</td>\n",
       "      <td>0</td>\n",
       "      <td>1</td>\n",
       "      <td>0</td>\n",
       "      <td>0</td>\n",
       "      <td>1</td>\n",
       "      <td>0</td>\n",
       "      <td>0</td>\n",
       "    </tr>\n",
       "    <tr>\n",
       "      <th>2</th>\n",
       "      <td>1</td>\n",
       "      <td>0</td>\n",
       "      <td>0</td>\n",
       "      <td>0</td>\n",
       "      <td>0</td>\n",
       "      <td>0</td>\n",
       "      <td>0</td>\n",
       "      <td>1</td>\n",
       "      <td>0</td>\n",
       "      <td>0</td>\n",
       "      <td>0</td>\n",
       "    </tr>\n",
       "    <tr>\n",
       "      <th>3</th>\n",
       "      <td>1</td>\n",
       "      <td>0</td>\n",
       "      <td>0</td>\n",
       "      <td>0</td>\n",
       "      <td>0</td>\n",
       "      <td>1</td>\n",
       "      <td>0</td>\n",
       "      <td>1</td>\n",
       "      <td>0</td>\n",
       "      <td>0</td>\n",
       "      <td>0</td>\n",
       "    </tr>\n",
       "    <tr>\n",
       "      <th>4</th>\n",
       "      <td>0</td>\n",
       "      <td>0</td>\n",
       "      <td>1</td>\n",
       "      <td>0</td>\n",
       "      <td>1</td>\n",
       "      <td>0</td>\n",
       "      <td>1</td>\n",
       "      <td>1</td>\n",
       "      <td>0</td>\n",
       "      <td>0</td>\n",
       "      <td>0</td>\n",
       "    </tr>\n",
       "    <tr>\n",
       "      <th>...</th>\n",
       "      <td>...</td>\n",
       "      <td>...</td>\n",
       "      <td>...</td>\n",
       "      <td>...</td>\n",
       "      <td>...</td>\n",
       "      <td>...</td>\n",
       "      <td>...</td>\n",
       "      <td>...</td>\n",
       "      <td>...</td>\n",
       "      <td>...</td>\n",
       "      <td>...</td>\n",
       "    </tr>\n",
       "    <tr>\n",
       "      <th>1997590</th>\n",
       "      <td>0</td>\n",
       "      <td>1</td>\n",
       "      <td>0</td>\n",
       "      <td>1</td>\n",
       "      <td>0</td>\n",
       "      <td>1</td>\n",
       "      <td>0</td>\n",
       "      <td>0</td>\n",
       "      <td>1</td>\n",
       "      <td>0</td>\n",
       "      <td>0</td>\n",
       "    </tr>\n",
       "    <tr>\n",
       "      <th>1997591</th>\n",
       "      <td>1</td>\n",
       "      <td>0</td>\n",
       "      <td>0</td>\n",
       "      <td>1</td>\n",
       "      <td>0</td>\n",
       "      <td>1</td>\n",
       "      <td>0</td>\n",
       "      <td>0</td>\n",
       "      <td>1</td>\n",
       "      <td>0</td>\n",
       "      <td>0</td>\n",
       "    </tr>\n",
       "    <tr>\n",
       "      <th>1997592</th>\n",
       "      <td>0</td>\n",
       "      <td>1</td>\n",
       "      <td>0</td>\n",
       "      <td>0</td>\n",
       "      <td>0</td>\n",
       "      <td>0</td>\n",
       "      <td>1</td>\n",
       "      <td>0</td>\n",
       "      <td>1</td>\n",
       "      <td>0</td>\n",
       "      <td>0</td>\n",
       "    </tr>\n",
       "    <tr>\n",
       "      <th>1997593</th>\n",
       "      <td>1</td>\n",
       "      <td>0</td>\n",
       "      <td>0</td>\n",
       "      <td>0</td>\n",
       "      <td>0</td>\n",
       "      <td>0</td>\n",
       "      <td>1</td>\n",
       "      <td>1</td>\n",
       "      <td>0</td>\n",
       "      <td>0</td>\n",
       "      <td>0</td>\n",
       "    </tr>\n",
       "    <tr>\n",
       "      <th>1997594</th>\n",
       "      <td>1</td>\n",
       "      <td>0</td>\n",
       "      <td>0</td>\n",
       "      <td>0</td>\n",
       "      <td>0</td>\n",
       "      <td>0</td>\n",
       "      <td>1</td>\n",
       "      <td>0</td>\n",
       "      <td>1</td>\n",
       "      <td>0</td>\n",
       "      <td>0</td>\n",
       "    </tr>\n",
       "  </tbody>\n",
       "</table>\n",
       "<p>1997595 rows × 11 columns</p>\n",
       "</div>"
      ],
      "text/plain": [
       "         OH_auction_type_id=1.0  OH_auction_type_id=2.0  \\\n",
       "0                             1                       0   \n",
       "1                             0                       1   \n",
       "2                             1                       0   \n",
       "3                             1                       0   \n",
       "4                             0                       0   \n",
       "...                         ...                     ...   \n",
       "1997590                       0                       1   \n",
       "1997591                       1                       0   \n",
       "1997592                       0                       1   \n",
       "1997593                       1                       0   \n",
       "1997594                       1                       0   \n",
       "\n",
       "         OH_auction_type_id=4.0  OH_header_bidding=0.0  OH_header_bidding=1.0  \\\n",
       "0                             0                      1                      0   \n",
       "1                             0                      1                      0   \n",
       "2                             0                      0                      0   \n",
       "3                             0                      0                      0   \n",
       "4                             1                      0                      1   \n",
       "...                         ...                    ...                    ...   \n",
       "1997590                       0                      1                      0   \n",
       "1997591                       0                      1                      0   \n",
       "1997592                       0                      0                      0   \n",
       "1997593                       0                      0                      0   \n",
       "1997594                       0                      0                      0   \n",
       "\n",
       "         OH_is_interstitial=1.0  OH_is_interstitial=0.0  OH_user_type_id=1  \\\n",
       "0                             1                       0                  1   \n",
       "1                             1                       0                  0   \n",
       "2                             0                       0                  1   \n",
       "3                             1                       0                  1   \n",
       "4                             0                       1                  1   \n",
       "...                         ...                     ...                ...   \n",
       "1997590                       1                       0                  0   \n",
       "1997591                       1                       0                  0   \n",
       "1997592                       0                       1                  0   \n",
       "1997593                       0                       1                  1   \n",
       "1997594                       0                       1                  0   \n",
       "\n",
       "         OH_user_type_id=2  OH_user_type_id=4  OH_user_type_id=3  \n",
       "0                        0                  0                  0  \n",
       "1                        1                  0                  0  \n",
       "2                        0                  0                  0  \n",
       "3                        0                  0                  0  \n",
       "4                        0                  0                  0  \n",
       "...                    ...                ...                ...  \n",
       "1997590                  1                  0                  0  \n",
       "1997591                  1                  0                  0  \n",
       "1997592                  1                  0                  0  \n",
       "1997593                  0                  0                  0  \n",
       "1997594                  1                  0                  0  \n",
       "\n",
       "[1997595 rows x 11 columns]"
      ]
     },
     "execution_count": 23,
     "metadata": {},
     "output_type": "execute_result"
    }
   ],
   "source": [
    "create_onehot_encoding_features(train_df)"
   ]
  },
  {
   "cell_type": "markdown",
   "metadata": {},
   "source": [
    "#### note: カテゴリ変数の取り扱い方についての参考文献\n",
    "\n",
    "上記で紹介した方法以外にもいくつかの encoding の方法がありそれぞれ特性があります。以下に参考となる文献を貼っています。\n",
    "\n",
    "* 日本人 GrandMaster の jack さんの kaggle-days-tokyo での発表 [How to encode categorical features for GBDT](https://speakerdeck.com/rsakata/how-to-encode-categorical-features-for-gbdt?slide=5) では各種の encoding の方法がパフォーマンスにどう影響するのかについての議論がされています。\n",
    "* wantedly の Goda さんの発表 [Target Encoding はなぜ有効なのか](https://speakerdeck.com/hakubishin3/target-encoding-hanazeyou-xiao-nafalseka) では target encoding が他の encoding 方法にくらべ優れている理由についての議論がされています。"
   ]
  },
  {
   "cell_type": "markdown",
   "metadata": {},
   "source": [
    "### 集約を使った特徴量\n",
    "\n",
    "最後に column に対しての集約を使った特徴量を作ってみましょう。先ほど `CountEncoding` を紹介しました。これは集約したときに値ごとに全レコードで何回表れるかに変換する作業です。これと同様にして「集約した時に 〜 である数」を作れば、同じように特徴にすることができます。\n",
    "\n",
    "ポピュラーなのは連続変数の値の平均値とか最大、最小値を使うものですね。"
   ]
  },
  {
   "cell_type": "code",
   "execution_count": 24,
   "metadata": {},
   "outputs": [
    {
     "data": {
      "text/html": [
       "<div>\n",
       "<style scoped>\n",
       "    .dataframe tbody tr th:only-of-type {\n",
       "        vertical-align: middle;\n",
       "    }\n",
       "\n",
       "    .dataframe tbody tr th {\n",
       "        vertical-align: top;\n",
       "    }\n",
       "\n",
       "    .dataframe thead th {\n",
       "        text-align: right;\n",
       "    }\n",
       "</style>\n",
       "<table border=\"1\" class=\"dataframe\">\n",
       "  <thead>\n",
       "    <tr style=\"text-align: right;\">\n",
       "      <th></th>\n",
       "      <th>mean</th>\n",
       "      <th>std</th>\n",
       "    </tr>\n",
       "    <tr>\n",
       "      <th>uid</th>\n",
       "      <th></th>\n",
       "      <th></th>\n",
       "    </tr>\n",
       "  </thead>\n",
       "  <tbody>\n",
       "    <tr>\n",
       "      <th>00000875c54c0f8fcb76</th>\n",
       "      <td>14299.0</td>\n",
       "      <td>NaN</td>\n",
       "    </tr>\n",
       "    <tr>\n",
       "      <th>00001f0fd3c477ade4a0</th>\n",
       "      <td>15678.0</td>\n",
       "      <td>NaN</td>\n",
       "    </tr>\n",
       "    <tr>\n",
       "      <th>0000227f0ef616888399</th>\n",
       "      <td>27142.0</td>\n",
       "      <td>NaN</td>\n",
       "    </tr>\n",
       "    <tr>\n",
       "      <th>000026250cb6b0f3ec3c</th>\n",
       "      <td>14613.0</td>\n",
       "      <td>NaN</td>\n",
       "    </tr>\n",
       "    <tr>\n",
       "      <th>00002a63e4e60345ad71</th>\n",
       "      <td>4765.0</td>\n",
       "      <td>NaN</td>\n",
       "    </tr>\n",
       "    <tr>\n",
       "      <th>...</th>\n",
       "      <td>...</td>\n",
       "      <td>...</td>\n",
       "    </tr>\n",
       "    <tr>\n",
       "      <th>ffffa232fd448db3eaa8</th>\n",
       "      <td>4011.0</td>\n",
       "      <td>NaN</td>\n",
       "    </tr>\n",
       "    <tr>\n",
       "      <th>ffffb0e8ed58603e3d06</th>\n",
       "      <td>11869.0</td>\n",
       "      <td>NaN</td>\n",
       "    </tr>\n",
       "    <tr>\n",
       "      <th>ffffb7732656f64a0091</th>\n",
       "      <td>52957.0</td>\n",
       "      <td>NaN</td>\n",
       "    </tr>\n",
       "    <tr>\n",
       "      <th>ffffbf024fcec612c783</th>\n",
       "      <td>4509.5</td>\n",
       "      <td>1018.940872</td>\n",
       "    </tr>\n",
       "    <tr>\n",
       "      <th>ffffd8a0f740476ae95d</th>\n",
       "      <td>13227.0</td>\n",
       "      <td>NaN</td>\n",
       "    </tr>\n",
       "  </tbody>\n",
       "</table>\n",
       "<p>1434038 rows × 2 columns</p>\n",
       "</div>"
      ],
      "text/plain": [
       "                         mean          std\n",
       "uid                                       \n",
       "00000875c54c0f8fcb76  14299.0          NaN\n",
       "00001f0fd3c477ade4a0  15678.0          NaN\n",
       "0000227f0ef616888399  27142.0          NaN\n",
       "000026250cb6b0f3ec3c  14613.0          NaN\n",
       "00002a63e4e60345ad71   4765.0          NaN\n",
       "...                       ...          ...\n",
       "ffffa232fd448db3eaa8   4011.0          NaN\n",
       "ffffb0e8ed58603e3d06  11869.0          NaN\n",
       "ffffb7732656f64a0091  52957.0          NaN\n",
       "ffffbf024fcec612c783   4509.5  1018.940872\n",
       "ffffd8a0f740476ae95d  13227.0          NaN\n",
       "\n",
       "[1434038 rows x 2 columns]"
      ]
     },
     "execution_count": 24,
     "metadata": {},
     "output_type": "execute_result"
    }
   ],
   "source": [
    "# agg を使うことで複数の集約を一気に実行することができます\n",
    "# https://pandas.pydata.org/docs/reference/api/pandas.core.groupby.SeriesGroupBy.aggregate.html\n",
    "\n",
    "whole_df.groupby('uid')['last_login_interval'].agg(['mean', 'std'])"
   ]
  },
  {
   "cell_type": "markdown",
   "metadata": {},
   "source": [
    "あとよくやるのは「集約した時にユニークな値がなんこあるか」というやつですね。例えば下の例だと「このユーザーはどれだけの種類の配信元を見ている人か」という情報になっています。(これが多い人は、多分いろんなゲームとかする人なんだろうな、と推察されますね)"
   ]
  },
  {
   "cell_type": "code",
   "execution_count": 25,
   "metadata": {},
   "outputs": [
    {
     "data": {
      "text/plain": [
       "uid\n",
       "00000875c54c0f8fcb76    1\n",
       "00001f0fd3c477ade4a0    1\n",
       "0000227f0ef616888399    1\n",
       "000026250cb6b0f3ec3c    1\n",
       "00002a63e4e60345ad71    1\n",
       "                       ..\n",
       "ffffa232fd448db3eaa8    1\n",
       "ffffb0e8ed58603e3d06    1\n",
       "ffffb7732656f64a0091    1\n",
       "ffffbf024fcec612c783    1\n",
       "ffffd8a0f740476ae95d    1\n",
       "Name: advertiser_id, Length: 1434038, dtype: int64"
      ]
     },
     "execution_count": 25,
     "metadata": {},
     "output_type": "execute_result"
    }
   ],
   "source": [
    "whole_df.groupby('uid')['advertiser_id'].nunique()"
   ]
  },
  {
   "cell_type": "markdown",
   "metadata": {},
   "source": [
    "上記で groupby した結果の data-frame (or Series) は index に uid を持っているので train (or test) に対して uid を key として left join することで特徴量列として追加することができます。以下は上記で紹介した集約を特徴量にする関数です。"
   ]
  },
  {
   "cell_type": "code",
   "execution_count": 26,
   "metadata": {},
   "outputs": [],
   "source": [
    "def _run_aggregation(input_df: pd.DataFrame, agg_column='uid') -> pd.DataFrame:\n",
    "    \"\"\"uid に関する aggregation 特徴量\"\"\"\n",
    "    \n",
    "    # note: \n",
    "    #   この集約はとても重たい処理になりがちです(特にnunique). しかも train / test で共通の処理で毎回 call されるため無駄です\n",
    "    #   例えば別のコードで `_agg_df` だけ作ってローカルに保存するコードをかいておいて\n",
    "    #   実際に特徴量を作成するときにはそちらを読み込む用にするなどすると高速化になります\n",
    "    _agg_df = pd.concat([\n",
    "        whole_df.groupby(agg_column)['last_login_interval'].agg(['mean', 'min', 'max']).add_prefix('last_login_interval_'),\n",
    "        whole_df.groupby(agg_column)['advertiser_id'].nunique()\n",
    "    ], axis=1)\n",
    "    \n",
    "    out_df = pd.merge(input_df[agg_column], _agg_df, on=agg_column, how='left')\n",
    "    out_df = out_df.drop(columns=agg_column).add_suffix('_by_{}'.format(agg_column))\n",
    "    return out_df"
   ]
  },
  {
   "cell_type": "code",
   "execution_count": 27,
   "metadata": {},
   "outputs": [],
   "source": [
    "# 上記 Note を元に, オブジェクト指向 like に書き直す\n",
    "\n",
    "class MultipleAggFeature:\n",
    "    def __init__(self, agg_column: str):\n",
    "        \"\"\"\n",
    "        Args:\n",
    "            agg_column: str\n",
    "                集約の key になる column 名.\n",
    "        \"\"\"\n",
    "        self._agg_df = None\n",
    "        self.agg_column = agg_column\n",
    "        \n",
    "        if agg_column not in whole_df.columns:\n",
    "            raise ValueError('invalid `\"agg_column\"`')\n",
    "        \n",
    "    def create_agg_df(self):\n",
    "        agg_column = self.agg_column\n",
    "        self._agg_df = pd.concat([\n",
    "            whole_df.groupby(agg_column)['last_login_interval'].agg(['mean', 'min', 'max']).add_prefix('last_login_interval_'),\n",
    "            whole_df.groupby(agg_column)['advertiser_id'].nunique()\n",
    "        ], axis=1)\n",
    "        return self._agg_df\n",
    "    \n",
    "    @property\n",
    "    def __name__(self):\n",
    "        return 'multiple_agg_by_{}'.format(self.agg_column)\n",
    "        \n",
    "    @property\n",
    "    def already_aggregated(self):\n",
    "        return self._agg_df is not None\n",
    "        \n",
    "    def __call__(self, input_df: pd.DataFrame) -> pd.DataFrame:\n",
    "        if not self.already_aggregated:\n",
    "            print('start create agg features...')\n",
    "            self._agg_df = self.create_agg_df()\n",
    "            \n",
    "        _agg_df = self._agg_df\n",
    "        agg_column = self.agg_column\n",
    "        \n",
    "        # 単に集約して suffix つけるだけなので関数化して外に出してもいいかもしれません\n",
    "        out_df = pd.merge(input_df[agg_column], _agg_df, on=agg_column, how='left')\n",
    "        out_df = out_df.drop(columns=agg_column).add_suffix('_by_{}'.format(agg_column))\n",
    "        return out_df"
   ]
  },
  {
   "cell_type": "markdown",
   "metadata": {},
   "source": [
    "### ちょっと凝った集約特徴\n",
    "\n",
    "上記は集約対象がすでに train (or test) に存在するカラムでした。\n",
    "いま存在するカラムでやってもちょっとおもしろくないので時系列情報でちょっと凝ったものを作ってみます。\n",
    "\n",
    "「ユーザーごとに見た時に impression がどういう時刻に起こりやすいか」を特徴にしてみます。impression のカラムを時系列として扱いたいので `to_datetime` を使って datetime に変換します。こうすることで `imp_at` の Series に対して `dt` から hour や days などカラムを時刻としてみなした値にアクセスできます."
   ]
  },
  {
   "cell_type": "code",
   "execution_count": 28,
   "metadata": {},
   "outputs": [],
   "source": [
    "from datetime import timedelta\n",
    "\n",
    "imp_at = pd.to_datetime(whole_df['imp_at']) + timedelta(hours=9) # utc -> asia/tokyo\n",
    "out_df = pd.DataFrame()\n",
    "out_df['hours'] = imp_at.dt.hour\n",
    "out_df['dayofweek'] = imp_at.dt.dayofweek\n",
    "out_df['hour_zone'] = pd.cut(out_df['hours'].values, bins=[-np.inf, 6, 12, 18, np.inf]).codes\n",
    "out_df['uid'] = whole_df['uid']"
   ]
  },
  {
   "cell_type": "code",
   "execution_count": 29,
   "metadata": {},
   "outputs": [
    {
     "data": {
      "text/html": [
       "<div>\n",
       "<style scoped>\n",
       "    .dataframe tbody tr th:only-of-type {\n",
       "        vertical-align: middle;\n",
       "    }\n",
       "\n",
       "    .dataframe tbody tr th {\n",
       "        vertical-align: top;\n",
       "    }\n",
       "\n",
       "    .dataframe thead th {\n",
       "        text-align: right;\n",
       "    }\n",
       "</style>\n",
       "<table border=\"1\" class=\"dataframe\">\n",
       "  <thead>\n",
       "    <tr style=\"text-align: right;\">\n",
       "      <th></th>\n",
       "      <th>hours</th>\n",
       "      <th>dayofweek</th>\n",
       "      <th>hour_zone</th>\n",
       "      <th>uid</th>\n",
       "    </tr>\n",
       "  </thead>\n",
       "  <tbody>\n",
       "    <tr>\n",
       "      <th>0</th>\n",
       "      <td>9</td>\n",
       "      <td>1</td>\n",
       "      <td>1</td>\n",
       "      <td>30cfce348022c3812b3a</td>\n",
       "    </tr>\n",
       "    <tr>\n",
       "      <th>1</th>\n",
       "      <td>9</td>\n",
       "      <td>1</td>\n",
       "      <td>1</td>\n",
       "      <td>4c28854cab6a85c37dab</td>\n",
       "    </tr>\n",
       "    <tr>\n",
       "      <th>2</th>\n",
       "      <td>9</td>\n",
       "      <td>1</td>\n",
       "      <td>1</td>\n",
       "      <td>b35f0cd7210c4273489c</td>\n",
       "    </tr>\n",
       "    <tr>\n",
       "      <th>3</th>\n",
       "      <td>9</td>\n",
       "      <td>1</td>\n",
       "      <td>1</td>\n",
       "      <td>57dc1bf69be06dac416c</td>\n",
       "    </tr>\n",
       "    <tr>\n",
       "      <th>4</th>\n",
       "      <td>9</td>\n",
       "      <td>1</td>\n",
       "      <td>1</td>\n",
       "      <td>7ca7b54b97093b084027</td>\n",
       "    </tr>\n",
       "  </tbody>\n",
       "</table>\n",
       "</div>"
      ],
      "text/plain": [
       "   hours  dayofweek  hour_zone                   uid\n",
       "0      9          1          1  30cfce348022c3812b3a\n",
       "1      9          1          1  4c28854cab6a85c37dab\n",
       "2      9          1          1  b35f0cd7210c4273489c\n",
       "3      9          1          1  57dc1bf69be06dac416c\n",
       "4      9          1          1  7ca7b54b97093b084027"
      ]
     },
     "execution_count": 29,
     "metadata": {},
     "output_type": "execute_result"
    }
   ],
   "source": [
    "out_df.head()"
   ]
  },
  {
   "cell_type": "markdown",
   "metadata": {},
   "source": [
    "これからユーザーごとに集計して何時に impression があったかのデータに変換します。2つのカラムの共起で集約するような場合には pivot table が便利です."
   ]
  },
  {
   "cell_type": "code",
   "execution_count": 30,
   "metadata": {},
   "outputs": [
    {
     "data": {
      "text/html": [
       "<div>\n",
       "<style scoped>\n",
       "    .dataframe tbody tr th:only-of-type {\n",
       "        vertical-align: middle;\n",
       "    }\n",
       "\n",
       "    .dataframe tbody tr th {\n",
       "        vertical-align: top;\n",
       "    }\n",
       "\n",
       "    .dataframe thead th {\n",
       "        text-align: right;\n",
       "    }\n",
       "</style>\n",
       "<table border=\"1\" class=\"dataframe\">\n",
       "  <thead>\n",
       "    <tr style=\"text-align: right;\">\n",
       "      <th>dayofweek</th>\n",
       "      <th>0</th>\n",
       "      <th>1</th>\n",
       "      <th>2</th>\n",
       "      <th>3</th>\n",
       "      <th>4</th>\n",
       "      <th>5</th>\n",
       "      <th>6</th>\n",
       "    </tr>\n",
       "    <tr>\n",
       "      <th>uid</th>\n",
       "      <th></th>\n",
       "      <th></th>\n",
       "      <th></th>\n",
       "      <th></th>\n",
       "      <th></th>\n",
       "      <th></th>\n",
       "      <th></th>\n",
       "    </tr>\n",
       "  </thead>\n",
       "  <tbody>\n",
       "    <tr>\n",
       "      <th>00000875c54c0f8fcb76</th>\n",
       "      <td>NaN</td>\n",
       "      <td>NaN</td>\n",
       "      <td>NaN</td>\n",
       "      <td>NaN</td>\n",
       "      <td>NaN</td>\n",
       "      <td>NaN</td>\n",
       "      <td>1.0</td>\n",
       "    </tr>\n",
       "    <tr>\n",
       "      <th>00001f0fd3c477ade4a0</th>\n",
       "      <td>NaN</td>\n",
       "      <td>NaN</td>\n",
       "      <td>NaN</td>\n",
       "      <td>NaN</td>\n",
       "      <td>NaN</td>\n",
       "      <td>NaN</td>\n",
       "      <td>1.0</td>\n",
       "    </tr>\n",
       "    <tr>\n",
       "      <th>0000227f0ef616888399</th>\n",
       "      <td>NaN</td>\n",
       "      <td>NaN</td>\n",
       "      <td>NaN</td>\n",
       "      <td>NaN</td>\n",
       "      <td>NaN</td>\n",
       "      <td>NaN</td>\n",
       "      <td>1.0</td>\n",
       "    </tr>\n",
       "    <tr>\n",
       "      <th>000026250cb6b0f3ec3c</th>\n",
       "      <td>NaN</td>\n",
       "      <td>NaN</td>\n",
       "      <td>1.0</td>\n",
       "      <td>NaN</td>\n",
       "      <td>NaN</td>\n",
       "      <td>NaN</td>\n",
       "      <td>NaN</td>\n",
       "    </tr>\n",
       "    <tr>\n",
       "      <th>00002a63e4e60345ad71</th>\n",
       "      <td>NaN</td>\n",
       "      <td>NaN</td>\n",
       "      <td>NaN</td>\n",
       "      <td>NaN</td>\n",
       "      <td>NaN</td>\n",
       "      <td>NaN</td>\n",
       "      <td>1.0</td>\n",
       "    </tr>\n",
       "  </tbody>\n",
       "</table>\n",
       "</div>"
      ],
      "text/plain": [
       "dayofweek              0   1    2   3   4   5    6\n",
       "uid                                               \n",
       "00000875c54c0f8fcb76 NaN NaN  NaN NaN NaN NaN  1.0\n",
       "00001f0fd3c477ade4a0 NaN NaN  NaN NaN NaN NaN  1.0\n",
       "0000227f0ef616888399 NaN NaN  NaN NaN NaN NaN  1.0\n",
       "000026250cb6b0f3ec3c NaN NaN  1.0 NaN NaN NaN  NaN\n",
       "00002a63e4e60345ad71 NaN NaN  NaN NaN NaN NaN  1.0"
      ]
     },
     "execution_count": 30,
     "metadata": {},
     "output_type": "execute_result"
    }
   ],
   "source": [
    "_piv_df = pd.pivot_table(out_df, index='uid', columns='dayofweek', values='hours', aggfunc='count')\n",
    "_piv_df.head()"
   ]
  },
  {
   "cell_type": "markdown",
   "metadata": {},
   "source": [
    "カウントの大小等よりは、何時にアクセスしやすいかという傾向を特徴化したいので行方向に正規化します"
   ]
  },
  {
   "cell_type": "code",
   "execution_count": 31,
   "metadata": {},
   "outputs": [
    {
     "data": {
      "text/html": [
       "<div>\n",
       "<style scoped>\n",
       "    .dataframe tbody tr th:only-of-type {\n",
       "        vertical-align: middle;\n",
       "    }\n",
       "\n",
       "    .dataframe tbody tr th {\n",
       "        vertical-align: top;\n",
       "    }\n",
       "\n",
       "    .dataframe thead th {\n",
       "        text-align: right;\n",
       "    }\n",
       "</style>\n",
       "<table border=\"1\" class=\"dataframe\">\n",
       "  <thead>\n",
       "    <tr style=\"text-align: right;\">\n",
       "      <th>dayofweek</th>\n",
       "      <th>0</th>\n",
       "      <th>1</th>\n",
       "      <th>2</th>\n",
       "      <th>3</th>\n",
       "      <th>4</th>\n",
       "      <th>5</th>\n",
       "      <th>6</th>\n",
       "    </tr>\n",
       "    <tr>\n",
       "      <th>uid</th>\n",
       "      <th></th>\n",
       "      <th></th>\n",
       "      <th></th>\n",
       "      <th></th>\n",
       "      <th></th>\n",
       "      <th></th>\n",
       "      <th></th>\n",
       "    </tr>\n",
       "  </thead>\n",
       "  <tbody>\n",
       "    <tr>\n",
       "      <th>00000875c54c0f8fcb76</th>\n",
       "      <td>0.0</td>\n",
       "      <td>0.0</td>\n",
       "      <td>0.0</td>\n",
       "      <td>0.0</td>\n",
       "      <td>0.0</td>\n",
       "      <td>0.0</td>\n",
       "      <td>1.0</td>\n",
       "    </tr>\n",
       "    <tr>\n",
       "      <th>00001f0fd3c477ade4a0</th>\n",
       "      <td>0.0</td>\n",
       "      <td>0.0</td>\n",
       "      <td>0.0</td>\n",
       "      <td>0.0</td>\n",
       "      <td>0.0</td>\n",
       "      <td>0.0</td>\n",
       "      <td>1.0</td>\n",
       "    </tr>\n",
       "    <tr>\n",
       "      <th>0000227f0ef616888399</th>\n",
       "      <td>0.0</td>\n",
       "      <td>0.0</td>\n",
       "      <td>0.0</td>\n",
       "      <td>0.0</td>\n",
       "      <td>0.0</td>\n",
       "      <td>0.0</td>\n",
       "      <td>1.0</td>\n",
       "    </tr>\n",
       "    <tr>\n",
       "      <th>000026250cb6b0f3ec3c</th>\n",
       "      <td>0.0</td>\n",
       "      <td>0.0</td>\n",
       "      <td>1.0</td>\n",
       "      <td>0.0</td>\n",
       "      <td>0.0</td>\n",
       "      <td>0.0</td>\n",
       "      <td>0.0</td>\n",
       "    </tr>\n",
       "    <tr>\n",
       "      <th>00002a63e4e60345ad71</th>\n",
       "      <td>0.0</td>\n",
       "      <td>0.0</td>\n",
       "      <td>0.0</td>\n",
       "      <td>0.0</td>\n",
       "      <td>0.0</td>\n",
       "      <td>0.0</td>\n",
       "      <td>1.0</td>\n",
       "    </tr>\n",
       "    <tr>\n",
       "      <th>...</th>\n",
       "      <td>...</td>\n",
       "      <td>...</td>\n",
       "      <td>...</td>\n",
       "      <td>...</td>\n",
       "      <td>...</td>\n",
       "      <td>...</td>\n",
       "      <td>...</td>\n",
       "    </tr>\n",
       "    <tr>\n",
       "      <th>ffffa232fd448db3eaa8</th>\n",
       "      <td>0.0</td>\n",
       "      <td>0.0</td>\n",
       "      <td>0.0</td>\n",
       "      <td>0.0</td>\n",
       "      <td>0.0</td>\n",
       "      <td>0.0</td>\n",
       "      <td>1.0</td>\n",
       "    </tr>\n",
       "    <tr>\n",
       "      <th>ffffb0e8ed58603e3d06</th>\n",
       "      <td>0.0</td>\n",
       "      <td>0.0</td>\n",
       "      <td>0.0</td>\n",
       "      <td>0.0</td>\n",
       "      <td>1.0</td>\n",
       "      <td>0.0</td>\n",
       "      <td>0.0</td>\n",
       "    </tr>\n",
       "    <tr>\n",
       "      <th>ffffb7732656f64a0091</th>\n",
       "      <td>0.0</td>\n",
       "      <td>0.0</td>\n",
       "      <td>0.0</td>\n",
       "      <td>1.0</td>\n",
       "      <td>0.0</td>\n",
       "      <td>0.0</td>\n",
       "      <td>0.0</td>\n",
       "    </tr>\n",
       "    <tr>\n",
       "      <th>ffffbf024fcec612c783</th>\n",
       "      <td>0.0</td>\n",
       "      <td>0.0</td>\n",
       "      <td>0.5</td>\n",
       "      <td>0.0</td>\n",
       "      <td>0.0</td>\n",
       "      <td>0.5</td>\n",
       "      <td>0.0</td>\n",
       "    </tr>\n",
       "    <tr>\n",
       "      <th>ffffd8a0f740476ae95d</th>\n",
       "      <td>0.0</td>\n",
       "      <td>0.0</td>\n",
       "      <td>0.0</td>\n",
       "      <td>0.0</td>\n",
       "      <td>0.0</td>\n",
       "      <td>0.0</td>\n",
       "      <td>1.0</td>\n",
       "    </tr>\n",
       "  </tbody>\n",
       "</table>\n",
       "<p>1434038 rows × 7 columns</p>\n",
       "</div>"
      ],
      "text/plain": [
       "dayofweek               0    1    2    3    4    5    6\n",
       "uid                                                    \n",
       "00000875c54c0f8fcb76  0.0  0.0  0.0  0.0  0.0  0.0  1.0\n",
       "00001f0fd3c477ade4a0  0.0  0.0  0.0  0.0  0.0  0.0  1.0\n",
       "0000227f0ef616888399  0.0  0.0  0.0  0.0  0.0  0.0  1.0\n",
       "000026250cb6b0f3ec3c  0.0  0.0  1.0  0.0  0.0  0.0  0.0\n",
       "00002a63e4e60345ad71  0.0  0.0  0.0  0.0  0.0  0.0  1.0\n",
       "...                   ...  ...  ...  ...  ...  ...  ...\n",
       "ffffa232fd448db3eaa8  0.0  0.0  0.0  0.0  0.0  0.0  1.0\n",
       "ffffb0e8ed58603e3d06  0.0  0.0  0.0  0.0  1.0  0.0  0.0\n",
       "ffffb7732656f64a0091  0.0  0.0  0.0  1.0  0.0  0.0  0.0\n",
       "ffffbf024fcec612c783  0.0  0.0  0.5  0.0  0.0  0.5  0.0\n",
       "ffffd8a0f740476ae95d  0.0  0.0  0.0  0.0  0.0  0.0  1.0\n",
       "\n",
       "[1434038 rows x 7 columns]"
      ]
     },
     "execution_count": 31,
     "metadata": {},
     "output_type": "execute_result"
    }
   ],
   "source": [
    "_piv_df = _piv_df.fillna(0)\n",
    "_piv_df.div(_piv_df.sum(axis=1), axis=0)"
   ]
  },
  {
   "cell_type": "code",
   "execution_count": 32,
   "metadata": {},
   "outputs": [],
   "source": [
    "def _create_whole_imp_at_feature() -> pd.DataFrame:\n",
    "    \"\"\"impression が起こった時刻が dayofweek / hour_zone の意味でどれだけ偏っているか集計した data-frame を作成する\"\"\"\n",
    "    \n",
    "    imp_at = pd.to_datetime(whole_df['imp_at']) + timedelta(hours=9) # utc -> asia/tokyo\n",
    "    out_df = pd.DataFrame()\n",
    "    out_df['hours'] = imp_at.dt.hour\n",
    "    out_df['dayofweek'] = imp_at.dt.dayofweek\n",
    "    out_df['hour_zone'] = pd.cut(out_df['hours'].values, bins=[-np.inf, 6, 12, 18, np.inf]).codes\n",
    "\n",
    "    def _create_pivot(input_df, c, column='dayofweek', values='hours'):\n",
    "        _df = pd.pivot_table(data=input_df, index=[c], columns=[column], values=values, aggfunc='count')\n",
    "        _df = _df.fillna(0)\n",
    "        _df.columns = [column + '=' + str(x) for x in _df.columns]\n",
    "        \n",
    "        # index ごとに正規化して割合にする\n",
    "        _df = _df.div(_df.sum(axis=1), axis=0)\n",
    "        return pd.merge(input_df[c], _df, on=c, how='left').drop(columns=[c]).add_prefix(c + '_')\n",
    "\n",
    "    # uid での集約\n",
    "    for c in ['uid']:\n",
    "        _df = out_df.copy()\n",
    "        _df[c] = whole_df[c]\n",
    "        _feat = pd.concat([\n",
    "            _create_pivot(_df, c),\n",
    "            _create_pivot(_df, c, column='hour_zone', values='dayofweek')  \n",
    "        ], axis=1)\n",
    "        out_df = pd.concat([out_df, _feat], axis=1)\n",
    "        \n",
    "    out_df['request_id'] = whole_df['request_id']\n",
    "    return out_df"
   ]
  },
  {
   "cell_type": "code",
   "execution_count": 33,
   "metadata": {},
   "outputs": [],
   "source": [
    "datetime_whole_df = _create_whole_imp_at_feature()"
   ]
  },
  {
   "cell_type": "markdown",
   "metadata": {},
   "source": [
    "上記で作った uid ごとの集約データを train / test の data-frame と left-join すれば特徴量となります。"
   ]
  },
  {
   "cell_type": "code",
   "execution_count": 34,
   "metadata": {},
   "outputs": [],
   "source": [
    "def create_imp_at_agg_features(input_df):\n",
    "    return pd.merge(input_df['request_id'], \n",
    "                    datetime_whole_df, \n",
    "                    on='request_id', \n",
    "                    how='left').drop(columns=['request_id'])"
   ]
  },
  {
   "cell_type": "markdown",
   "metadata": {},
   "source": [
    "### Tips\n",
    "\n",
    "#### [note1]: 集約対象の値の作り方\n",
    "\n",
    "勾配ブースティングは特徴量ごとの相互作用に関しては直接的に捉えることが不可能ですので、足し算引き算や割り算をして割合として捉えたり、掛け算をして合計の量にするといった操作でより良いモデルが作成できる場合があります.\n",
    "\n",
    "闇雲に四則演算等を行なうことでも作れますが、このデータがどのように発生したかの物理的な意味を考えつつ値を作ると効果的な特徴を作ることができます。この時引き算・足し算は同じ次元の値に対して行なうと良い場合が多い印象です。例えば...\n",
    "\n",
    "* `first_login_interval` と `last_login_interval` の引き算 (interval という意味で次元が同じ)\n",
    "* `cv_at` と `imp_at` の引き算 (datetime どうしで次元が同じ)\n",
    "* などなど…\n",
    "\n",
    "上記の演算方法で何が良いのか?については、結局のところデータがどいういうものかに依存します。discussion に上がっているデータおよび target flag の生成のされ方についてじっくり読んでみて、アイディアをねるのも良いと思います。\n",
    "\n",
    "* [Target Flagの付き方について | ykaneko san](https://www.guruguru.science/competitions/12/discussions/222561fa-8148-446f-b312-6cb1184eaad0/)\n",
    "* [データの細かい説明 | ykaneko san](https://www.guruguru.science/competitions/12/discussions/51745f12-b591-44f1-b306-bd5eb14554d8/)\n",
    "    * コメントで質問されている内容にもヒントがあるかもしれません。\n",
    "* [GameFeed, GameFeedTemplateとはなにか? | ykaneko san](https://www.guruguru.science/competitions/12/discussions/84636534-4885-41e4-b929-91969e535645/)\n",
    "    * 広告の出方について説明されています。実際にどうやって広告が配信されるかを考えてみるのは有効だと思います。\n",
    "* [Welcome to atmaCup#7](https://www.guruguru.science/competitions/12/discussions/8646ed76-eb91-4084-9eea-8b30a2ae0932/)\n",
    "    * いくつかデータに関する質問に答えてます\n",
    "\n",
    "#### [note2]: trainにしか存在しない特徴量について\n",
    "\n",
    "train にしかない特徴量は test にないから入っていても意味がないと思っていませんか? これらのカラムは確かに直接は使えませんが、集約を介することで test でも利用可能な情報にすることができます。例えば `click_or_viewed_at` の `hour` を取り出して `uid` で集約してみると?"
   ]
  },
  {
   "cell_type": "markdown",
   "metadata": {},
   "source": [
    "#### [note3]: コードのチェック\n",
    "\n",
    "今回の関数は簡単ですがもう少し込み入ったことをする場合、自分が書いたコードがあっているのか怪しくなってくることがあります。その場合以下のことをテストしておくと単純なミスなどによるエラーを防ぐことができます。\n",
    "\n",
    "* 入力に対して、出力の shape は正しいか (行の数と特徴量の数は一致しているか)\n",
    "* 再現性があるか (同じ入力に対して同じ出力を得ることが出来るか)\n",
    "\n",
    "特に one-hot-encoding などカテゴリ変数の変換の際に train / test で重複しないカテゴリがあって train / test でカラムの数が違うなどよくあるミスなので注意してください。"
   ]
  },
  {
   "cell_type": "code",
   "execution_count": 35,
   "metadata": {},
   "outputs": [],
   "source": [
    "_df = create_imp_at_agg_features(train_df)\n",
    "assert len(train_df) == len(_df) # ながさチェック\n",
    "assert _df.equals(create_imp_at_agg_features(train_df)) # 再現性チェック"
   ]
  },
  {
   "cell_type": "code",
   "execution_count": 36,
   "metadata": {},
   "outputs": [],
   "source": [
    "# https://github.com/nyk510/vivid/blob/master/vivid/utils.py\n",
    "from contextlib import contextmanager\n",
    "from time import time\n",
    "\n",
    "@contextmanager\n",
    "def timer(logger=None, format_str='{:.3f}[s]', prefix=None, suffix=None):\n",
    "    if prefix: format_str = str(prefix) + format_str\n",
    "    if suffix: format_str = format_str + str(suffix)\n",
    "    start = time()\n",
    "    yield\n",
    "    d = time() - start\n",
    "    out_str = format_str.format(d)\n",
    "    if logger:\n",
    "        logger.info(out_str)\n",
    "    else:\n",
    "        print(out_str)"
   ]
  },
  {
   "cell_type": "code",
   "execution_count": 37,
   "metadata": {},
   "outputs": [],
   "source": [
    "from tqdm import tqdm\n",
    "\n",
    "processors = [\n",
    "    # この2つは最初の Tutorial と同じ\n",
    "    create_continuous_features,\n",
    "    create_category_features,\n",
    "    \n",
    "    # 追加したもの.\n",
    "    create_count_encoding_features,\n",
    "    create_onehot_encoding_features,\n",
    "    create_imp_at_agg_features,\n",
    "    MultipleAggFeature('uid')\n",
    "]\n",
    "\n",
    "def to_feature(input_df):\n",
    "    out_df = pd.DataFrame()\n",
    "    \n",
    "    for func in processors:\n",
    "        with timer(prefix='-- ' + func.__name__ + ' --'):\n",
    "            _df = func(input_df)        \n",
    "        assert len(_df) == len(input_df), func.__name__\n",
    "        out_df = pd.concat([out_df, _df], axis=1)\n",
    "        \n",
    "    return out_df"
   ]
  },
  {
   "cell_type": "code",
   "execution_count": 38,
   "metadata": {},
   "outputs": [
    {
     "name": "stdout",
     "output_type": "stream",
     "text": [
      "-- create_continuous_features --0.054[s]\n",
      "-- create_category_features --0.051[s]\n",
      "-- create_count_encoding_features --4.566[s]\n",
      "-- create_onehot_encoding_features --0.357[s]\n",
      "-- create_imp_at_agg_features --2.534[s]\n",
      "start create agg features...\n",
      "-- multiple_agg_by_uid --10.224[s]\n",
      "create train feature 19.370[s]\n",
      "-- create_continuous_features --0.009[s]\n",
      "-- create_category_features --0.007[s]\n",
      "-- create_count_encoding_features --3.201[s]\n",
      "-- create_onehot_encoding_features --0.169[s]\n",
      "-- create_imp_at_agg_features --1.785[s]\n",
      "-- multiple_agg_by_uid --0.866[s]\n",
      "create test feature 6.289[s]\n"
     ]
    }
   ],
   "source": [
    "with timer(prefix='create train feature '):\n",
    "    train_feat_df = to_feature(train_df)\n",
    "\n",
    "with timer(prefix='create test feature '):\n",
    "    test_feat_df = to_feature(test_df)"
   ]
  },
  {
   "cell_type": "code",
   "execution_count": 39,
   "metadata": {},
   "outputs": [],
   "source": [
    "import lightgbm as lgbm\n",
    "\n",
    "from sklearn.metrics import average_precision_score\n",
    "import lightgbm as lgbm\n",
    "\n",
    "def pr_auc(y_true, y_pred):\n",
    "    \"\"\"lightGBM の round ごとに PR-AUC を計算する用\"\"\"\n",
    "    score = average_precision_score(y_true, y_pred)\n",
    "    return \"pr_auc\", score, True\n",
    "\n",
    "def fit_lgbm(X, y, cv, params: dict=None, verbose=100):\n",
    "\n",
    "    # パラメータがないときはからの dict で置き換える\n",
    "    if params is None:\n",
    "        params = {}\n",
    "\n",
    "    models = []\n",
    "    # training data の target と同じだけのゼロ配列を用意\n",
    "    # float にしないと悲しい事件が起こるのでそこだけ注意\n",
    "    oof_pred = np.zeros_like(y, dtype=np.float)\n",
    "\n",
    "    for i, (idx_train, idx_valid) in enumerate(cv): \n",
    "        # この部分が交差検証のところです。データセットを cv instance によって分割します\n",
    "        # training data を trian/valid に分割\n",
    "        x_train, y_train = X[idx_train], y[idx_train]\n",
    "        x_valid, y_valid = X[idx_valid], y[idx_valid]\n",
    "\n",
    "        clf = lgbm.LGBMClassifier(**params)\n",
    "        \n",
    "        with timer(prefix='fit fold={} '.format(i + 1)):\n",
    "            clf.fit(x_train, y_train, \n",
    "                    eval_set=[(x_valid, y_valid)],  \n",
    "                    early_stopping_rounds=verbose, \n",
    "                    eval_metric=pr_auc,\n",
    "                    verbose=verbose)\n",
    "\n",
    "        pred_i = clf.predict_proba(x_valid)[:, 1]\n",
    "        oof_pred[idx_valid] = pred_i\n",
    "        models.append(clf)\n",
    "\n",
    "        print(f'Fold {i} PR-AUC: {average_precision_score(y_valid, pred_i):.4f}')\n",
    "\n",
    "    score = average_precision_score(y, oof_pred)\n",
    "    print('FINISHED \\ whole score: {:.4f}'.format(score))\n",
    "    return oof_pred, models"
   ]
  },
  {
   "cell_type": "code",
   "execution_count": 40,
   "metadata": {},
   "outputs": [],
   "source": [
    "params = {\n",
    "    'objective': 'binary',\n",
    "    'learning_rate': .1,\n",
    "    'reg_lambda': .1,\n",
    "    'max_depth': 5,\n",
    "    'n_estimators': 10000,\n",
    "    'colsample_bytree': .5\n",
    "}\n",
    "\n",
    "y = train_df['target'].values"
   ]
  },
  {
   "cell_type": "code",
   "execution_count": 41,
   "metadata": {},
   "outputs": [],
   "source": [
    "from sklearn.model_selection import StratifiedKFold\n",
    "\n",
    "fold = StratifiedKFold(n_splits=5, shuffle=True, random_state=71)\n",
    "cv = list(fold.split(train_feat_df, y)) # もともとが generator なため明示的に list に変換する"
   ]
  },
  {
   "cell_type": "code",
   "execution_count": 42,
   "metadata": {},
   "outputs": [
    {
     "name": "stdout",
     "output_type": "stream",
     "text": [
      "Training until validation scores don't improve for 100 rounds\n",
      "[100]\tvalid_0's binary_logloss: 0.115868\tvalid_0's pr_auc: 0.209077\n",
      "[200]\tvalid_0's binary_logloss: 0.113569\tvalid_0's pr_auc: 0.221389\n",
      "[300]\tvalid_0's binary_logloss: 0.112462\tvalid_0's pr_auc: 0.227904\n",
      "[400]\tvalid_0's binary_logloss: 0.111833\tvalid_0's pr_auc: 0.232096\n",
      "[500]\tvalid_0's binary_logloss: 0.111454\tvalid_0's pr_auc: 0.234168\n",
      "[600]\tvalid_0's binary_logloss: 0.111118\tvalid_0's pr_auc: 0.236785\n",
      "[700]\tvalid_0's binary_logloss: 0.110841\tvalid_0's pr_auc: 0.239018\n",
      "[800]\tvalid_0's binary_logloss: 0.110599\tvalid_0's pr_auc: 0.240797\n",
      "[900]\tvalid_0's binary_logloss: 0.110457\tvalid_0's pr_auc: 0.241842\n",
      "[1000]\tvalid_0's binary_logloss: 0.11032\tvalid_0's pr_auc: 0.242457\n",
      "[1100]\tvalid_0's binary_logloss: 0.110246\tvalid_0's pr_auc: 0.242775\n",
      "[1200]\tvalid_0's binary_logloss: 0.110191\tvalid_0's pr_auc: 0.243078\n",
      "Early stopping, best iteration is:\n",
      "[1177]\tvalid_0's binary_logloss: 0.110188\tvalid_0's pr_auc: 0.243173\n",
      "fit fold=1 213.559[s]\n",
      "Fold 0 PR-AUC: 0.2432\n",
      "Training until validation scores don't improve for 100 rounds\n",
      "[100]\tvalid_0's binary_logloss: 0.116319\tvalid_0's pr_auc: 0.203786\n",
      "[200]\tvalid_0's binary_logloss: 0.113942\tvalid_0's pr_auc: 0.215445\n",
      "[300]\tvalid_0's binary_logloss: 0.112943\tvalid_0's pr_auc: 0.221489\n",
      "[400]\tvalid_0's binary_logloss: 0.112312\tvalid_0's pr_auc: 0.225234\n",
      "[500]\tvalid_0's binary_logloss: 0.111904\tvalid_0's pr_auc: 0.227911\n",
      "[600]\tvalid_0's binary_logloss: 0.111576\tvalid_0's pr_auc: 0.230758\n",
      "[700]\tvalid_0's binary_logloss: 0.111357\tvalid_0's pr_auc: 0.232531\n",
      "[800]\tvalid_0's binary_logloss: 0.111149\tvalid_0's pr_auc: 0.23401\n",
      "[900]\tvalid_0's binary_logloss: 0.110974\tvalid_0's pr_auc: 0.23552\n",
      "[1000]\tvalid_0's binary_logloss: 0.110824\tvalid_0's pr_auc: 0.236713\n",
      "[1100]\tvalid_0's binary_logloss: 0.110724\tvalid_0's pr_auc: 0.237488\n",
      "[1200]\tvalid_0's binary_logloss: 0.110688\tvalid_0's pr_auc: 0.237794\n",
      "[1300]\tvalid_0's binary_logloss: 0.110619\tvalid_0's pr_auc: 0.238307\n",
      "[1400]\tvalid_0's binary_logloss: 0.110564\tvalid_0's pr_auc: 0.23923\n",
      "[1500]\tvalid_0's binary_logloss: 0.110524\tvalid_0's pr_auc: 0.23963\n",
      "[1600]\tvalid_0's binary_logloss: 0.110494\tvalid_0's pr_auc: 0.240008\n",
      "[1700]\tvalid_0's binary_logloss: 0.110482\tvalid_0's pr_auc: 0.239912\n",
      "Early stopping, best iteration is:\n",
      "[1616]\tvalid_0's binary_logloss: 0.110488\tvalid_0's pr_auc: 0.240074\n",
      "fit fold=2 283.101[s]\n",
      "Fold 1 PR-AUC: 0.2401\n",
      "Training until validation scores don't improve for 100 rounds\n",
      "[100]\tvalid_0's binary_logloss: 0.116455\tvalid_0's pr_auc: 0.201761\n",
      "[200]\tvalid_0's binary_logloss: 0.114036\tvalid_0's pr_auc: 0.2144\n",
      "[300]\tvalid_0's binary_logloss: 0.113074\tvalid_0's pr_auc: 0.220597\n",
      "[400]\tvalid_0's binary_logloss: 0.112447\tvalid_0's pr_auc: 0.224486\n",
      "[500]\tvalid_0's binary_logloss: 0.112022\tvalid_0's pr_auc: 0.227291\n",
      "[600]\tvalid_0's binary_logloss: 0.111647\tvalid_0's pr_auc: 0.230167\n",
      "[700]\tvalid_0's binary_logloss: 0.111357\tvalid_0's pr_auc: 0.232004\n",
      "[800]\tvalid_0's binary_logloss: 0.111191\tvalid_0's pr_auc: 0.233249\n",
      "[900]\tvalid_0's binary_logloss: 0.111007\tvalid_0's pr_auc: 0.234237\n",
      "[1000]\tvalid_0's binary_logloss: 0.110876\tvalid_0's pr_auc: 0.235401\n",
      "[1100]\tvalid_0's binary_logloss: 0.110798\tvalid_0's pr_auc: 0.23603\n",
      "[1200]\tvalid_0's binary_logloss: 0.110724\tvalid_0's pr_auc: 0.236526\n",
      "[1300]\tvalid_0's binary_logloss: 0.110659\tvalid_0's pr_auc: 0.23694\n",
      "[1400]\tvalid_0's binary_logloss: 0.110587\tvalid_0's pr_auc: 0.237561\n",
      "[1500]\tvalid_0's binary_logloss: 0.110544\tvalid_0's pr_auc: 0.237926\n",
      "[1600]\tvalid_0's binary_logloss: 0.110554\tvalid_0's pr_auc: 0.238026\n",
      "Early stopping, best iteration is:\n",
      "[1540]\tvalid_0's binary_logloss: 0.110542\tvalid_0's pr_auc: 0.238048\n",
      "fit fold=3 274.219[s]\n",
      "Fold 2 PR-AUC: 0.2380\n",
      "Training until validation scores don't improve for 100 rounds\n",
      "[100]\tvalid_0's binary_logloss: 0.116443\tvalid_0's pr_auc: 0.201182\n",
      "[200]\tvalid_0's binary_logloss: 0.113952\tvalid_0's pr_auc: 0.214564\n",
      "[300]\tvalid_0's binary_logloss: 0.112989\tvalid_0's pr_auc: 0.220917\n",
      "[400]\tvalid_0's binary_logloss: 0.112442\tvalid_0's pr_auc: 0.224679\n",
      "[500]\tvalid_0's binary_logloss: 0.111944\tvalid_0's pr_auc: 0.228474\n",
      "[600]\tvalid_0's binary_logloss: 0.111596\tvalid_0's pr_auc: 0.231146\n",
      "[700]\tvalid_0's binary_logloss: 0.111319\tvalid_0's pr_auc: 0.233244\n",
      "[800]\tvalid_0's binary_logloss: 0.111092\tvalid_0's pr_auc: 0.235104\n",
      "[900]\tvalid_0's binary_logloss: 0.110941\tvalid_0's pr_auc: 0.236496\n",
      "[1000]\tvalid_0's binary_logloss: 0.110814\tvalid_0's pr_auc: 0.237224\n",
      "[1100]\tvalid_0's binary_logloss: 0.110727\tvalid_0's pr_auc: 0.2378\n",
      "[1200]\tvalid_0's binary_logloss: 0.110714\tvalid_0's pr_auc: 0.23787\n",
      "[1300]\tvalid_0's binary_logloss: 0.110663\tvalid_0's pr_auc: 0.238467\n",
      "[1400]\tvalid_0's binary_logloss: 0.110627\tvalid_0's pr_auc: 0.238796\n",
      "[1500]\tvalid_0's binary_logloss: 0.11057\tvalid_0's pr_auc: 0.239178\n",
      "[1600]\tvalid_0's binary_logloss: 0.110558\tvalid_0's pr_auc: 0.239371\n",
      "Early stopping, best iteration is:\n",
      "[1562]\tvalid_0's binary_logloss: 0.110555\tvalid_0's pr_auc: 0.239428\n",
      "fit fold=4 275.072[s]\n",
      "Fold 3 PR-AUC: 0.2394\n",
      "Training until validation scores don't improve for 100 rounds\n",
      "[100]\tvalid_0's binary_logloss: 0.117039\tvalid_0's pr_auc: 0.199269\n",
      "[200]\tvalid_0's binary_logloss: 0.11469\tvalid_0's pr_auc: 0.211855\n",
      "[300]\tvalid_0's binary_logloss: 0.113667\tvalid_0's pr_auc: 0.217999\n",
      "[400]\tvalid_0's binary_logloss: 0.113121\tvalid_0's pr_auc: 0.221315\n",
      "[500]\tvalid_0's binary_logloss: 0.112625\tvalid_0's pr_auc: 0.224817\n",
      "[600]\tvalid_0's binary_logloss: 0.112277\tvalid_0's pr_auc: 0.226891\n",
      "[700]\tvalid_0's binary_logloss: 0.11207\tvalid_0's pr_auc: 0.228521\n",
      "[800]\tvalid_0's binary_logloss: 0.111835\tvalid_0's pr_auc: 0.230295\n",
      "[900]\tvalid_0's binary_logloss: 0.111703\tvalid_0's pr_auc: 0.231468\n",
      "[1000]\tvalid_0's binary_logloss: 0.111497\tvalid_0's pr_auc: 0.232598\n",
      "[1100]\tvalid_0's binary_logloss: 0.111399\tvalid_0's pr_auc: 0.233233\n",
      "[1200]\tvalid_0's binary_logloss: 0.111303\tvalid_0's pr_auc: 0.234424\n",
      "[1300]\tvalid_0's binary_logloss: 0.111248\tvalid_0's pr_auc: 0.234779\n",
      "[1400]\tvalid_0's binary_logloss: 0.111203\tvalid_0's pr_auc: 0.235027\n",
      "[1500]\tvalid_0's binary_logloss: 0.111154\tvalid_0's pr_auc: 0.235573\n",
      "[1600]\tvalid_0's binary_logloss: 0.111104\tvalid_0's pr_auc: 0.236041\n",
      "[1700]\tvalid_0's binary_logloss: 0.111095\tvalid_0's pr_auc: 0.236072\n",
      "Early stopping, best iteration is:\n",
      "[1618]\tvalid_0's binary_logloss: 0.111098\tvalid_0's pr_auc: 0.236144\n",
      "fit fold=5 283.240[s]\n",
      "Fold 4 PR-AUC: 0.2361\n",
      "FINISHED \\ whole score: 0.2392\n"
     ]
    }
   ],
   "source": [
    "oof, models = fit_lgbm(train_feat_df.values, y, cv, params=params)"
   ]
  },
  {
   "cell_type": "markdown",
   "metadata": {},
   "source": [
    "### 特徴重要度の確認\n",
    "\n",
    "LightGBM など木系のモデルではどの特徴量で分割を行ってどれだけ目的変数を説明しているかを特徴重要度 (feature importance) として出力することができます。これを見ることで\n",
    "\n",
    "* どの特徴量が大事なのか\n",
    "* どの特徴量はあまり大事ではないか\n",
    "\n",
    "といった特徴量に関する情報を得ることができます。これによって、例えば重要となった特徴量を使う別の特徴を考えたり、反対に大事ではない特徴を削ったりといったインサイトを得ることが可能です。"
   ]
  },
  {
   "cell_type": "code",
   "execution_count": 60,
   "metadata": {},
   "outputs": [],
   "source": [
    "def visualize_importance(models, feat_train_df):\n",
    "    \"\"\"lightGBM の model 配列の feature importance を plot する\n",
    "    CVごとのブレを boxen plot として表現します.\n",
    "    \n",
    "    args:\n",
    "        models:\n",
    "            List of lightGBM models\n",
    "        feat_train_df:\n",
    "            学習時に使った DataFrame\n",
    "    \"\"\"\n",
    "    feature_importance_df = pd.DataFrame()\n",
    "    for i, model in enumerate(models):\n",
    "        _df = pd.DataFrame()\n",
    "        _df['feature_importance'] = model.feature_importances_\n",
    "        _df['column'] = feat_train_df.columns\n",
    "        _df['fold'] = i + 1\n",
    "        feature_importance_df = pd.concat([feature_importance_df, _df], axis=0, ignore_index=True)\n",
    "\n",
    "    order = feature_importance_df.groupby('column')\\\n",
    "        .mean()[['feature_importance']]\\\n",
    "        .sort_values('feature_importance', ascending=False).index[:100]\n",
    "\n",
    "    fig, ax = plt.subplots(figsize=(7, len(order) * .2))\n",
    "    sns.boxenplot(data=feature_importance_df, y='column', x='feature_importance', order=order, ax=ax, palette='viridis')\n",
    "    ax.grid()\n",
    "    fig.tight_layout()\n",
    "    return fig, ax"
   ]
  },
  {
   "cell_type": "code",
   "execution_count": 61,
   "metadata": {
    "scrolled": false
   },
   "outputs": [
    {
     "data": {
      "image/png": "[encoded data removed]",
      "text/plain": [
       "<Figure size 504x648 with 1 Axes>"
      ]
     },
     "metadata": {
      "needs_background": "light"
     },
     "output_type": "display_data"
    }
   ],
   "source": [
    "fig, ax = visualize_importance(models, train_feat_df)"
   ]
  },
  {
   "cell_type": "markdown",
   "metadata": {},
   "source": [
    "feature importance からわかることとしては\n",
    "\n",
    "* `advertiser_id` に関する CountEncoding が大事そう → Count以外の集約も大事かもしれません。\n",
    "* `login_interval` が重要になっていて uid での集約結果も大事になっています → それ以外のカラムで集約した場合も大事かもしれません。"
   ]
  },
  {
   "cell_type": "code",
   "execution_count": 45,
   "metadata": {},
   "outputs": [],
   "source": [
    "pred = np.array([model.predict_proba(test_feat_df.values)[:, 1] for model in models])\n",
    "pred = np.mean(pred, axis=0)\n",
    "\n",
    "sub_df = pd.DataFrame({ 'target': pred })\n",
    "sub_df.to_csv(os.path.join(output_dir, 'submission.csv'), index=False)"
   ]
  },
  {
   "cell_type": "markdown",
   "metadata": {},
   "source": [
    "## Adversarial Validation\n",
    "\n",
    "train と test の分布が離れている度合いを測る方法の一つとして Adversarial Validation と呼ばれる方法があります。これは train か test かを分類する問題を機械学習で解くことによって train / test が分割しやすいかどうか = 分布がずれている特徴があるかどうかを判定する方法です。\n",
    "\n",
    "以下では今回の特徴量を使って train の時 1 になるような binary classification を実行して, 分布のズレを確かめます。"
   ]
  },
  {
   "cell_type": "code",
   "execution_count": 46,
   "metadata": {},
   "outputs": [],
   "source": [
    "whole_feat_df = pd.concat([train_feat_df, test_feat_df], ignore_index=True)\n",
    "adv_target_labl = [True] * len(train_df) + [False] * len(test_df)\n",
    "adv_target_labl = np.array(adv_target_labl)"
   ]
  },
  {
   "cell_type": "code",
   "execution_count": 47,
   "metadata": {},
   "outputs": [
    {
     "name": "stdout",
     "output_type": "stream",
     "text": [
      "Training until validation scores don't improve for 100 rounds\n",
      "[100]\tvalid_0's binary_logloss: 0.238598\tvalid_0's pr_auc: 0.985232\n",
      "Did not meet early stopping. Best iteration is:\n",
      "[100]\tvalid_0's binary_logloss: 0.238598\tvalid_0's pr_auc: 0.985232\n",
      "fit fold=1 23.088[s]\n",
      "Fold 0 PR-AUC: 0.9852\n",
      "Training until validation scores don't improve for 100 rounds\n",
      "[100]\tvalid_0's binary_logloss: 0.235183\tvalid_0's pr_auc: 0.986109\n",
      "Did not meet early stopping. Best iteration is:\n",
      "[100]\tvalid_0's binary_logloss: 0.235183\tvalid_0's pr_auc: 0.986109\n",
      "fit fold=2 23.216[s]\n",
      "Fold 1 PR-AUC: 0.9861\n",
      "Training until validation scores don't improve for 100 rounds\n",
      "[100]\tvalid_0's binary_logloss: 0.234919\tvalid_0's pr_auc: 0.986007\n",
      "Did not meet early stopping. Best iteration is:\n",
      "[100]\tvalid_0's binary_logloss: 0.234919\tvalid_0's pr_auc: 0.986007\n",
      "fit fold=3 23.554[s]\n",
      "Fold 2 PR-AUC: 0.9860\n",
      "Training until validation scores don't improve for 100 rounds\n",
      "[100]\tvalid_0's binary_logloss: 0.23636\tvalid_0's pr_auc: 0.985817\n",
      "Did not meet early stopping. Best iteration is:\n",
      "[100]\tvalid_0's binary_logloss: 0.23636\tvalid_0's pr_auc: 0.985817\n",
      "fit fold=4 23.431[s]\n",
      "Fold 3 PR-AUC: 0.9858\n",
      "Training until validation scores don't improve for 100 rounds\n",
      "[100]\tvalid_0's binary_logloss: 0.237151\tvalid_0's pr_auc: 0.985741\n",
      "Did not meet early stopping. Best iteration is:\n",
      "[100]\tvalid_0's binary_logloss: 0.237151\tvalid_0's pr_auc: 0.985741\n",
      "fit fold=5 23.212[s]\n",
      "Fold 4 PR-AUC: 0.9857\n",
      "FINISHED \\ whole score: 0.9858\n"
     ]
    }
   ],
   "source": [
    "adv_params = {\n",
    "    'n_estimators': 100\n",
    "}\n",
    "\n",
    "adv_cv = StratifiedKFold(shuffle=True, random_state=71).split(whole_feat_df, adv_target_labl)\n",
    "adv_oof, adv_models = fit_lgbm(whole_feat_df.values, \n",
    "                               y=adv_target_labl, \n",
    "                               cv=adv_cv, \n",
    "                               params=adv_params)"
   ]
  },
  {
   "cell_type": "code",
   "execution_count": 48,
   "metadata": {
    "scrolled": false
   },
   "outputs": [
    {
     "data": {
      "text/plain": [
       "['max_login_interval',\n",
       " 'frequency',\n",
       " 'login_frequency',\n",
       " 'last_login_interval',\n",
       " 'from_click',\n",
       " 'adnw_id',\n",
       " 'adspot_id',\n",
       " 'adspot_video_format_id',\n",
       " 'game_feed_asset_type_id',\n",
       " 'CE_category_id',\n",
       " 'CE_adnw_id',\n",
       " 'CE_adspot_id',\n",
       " 'CE_app_id',\n",
       " 'CE_advertiser_id',\n",
       " 'CE_uid',\n",
       " 'CE_game_feed_id',\n",
       " 'OH_auction_type_id=1.0',\n",
       " 'OH_auction_type_id=2.0',\n",
       " 'OH_auction_type_id=4.0',\n",
       " 'OH_header_bidding=0.0',\n",
       " 'OH_header_bidding=1.0',\n",
       " 'OH_is_interstitial=1.0',\n",
       " 'OH_is_interstitial=0.0',\n",
       " 'OH_user_type_id=1',\n",
       " 'OH_user_type_id=2',\n",
       " 'OH_user_type_id=4',\n",
       " 'OH_user_type_id=3',\n",
       " 'hours',\n",
       " 'dayofweek',\n",
       " 'hour_zone',\n",
       " 'uid_dayofweek=0',\n",
       " 'uid_dayofweek=1',\n",
       " 'uid_dayofweek=2',\n",
       " 'uid_dayofweek=3',\n",
       " 'uid_dayofweek=4',\n",
       " 'uid_dayofweek=5',\n",
       " 'uid_dayofweek=6',\n",
       " 'uid_hour_zone=0',\n",
       " 'uid_hour_zone=1',\n",
       " 'uid_hour_zone=2',\n",
       " 'uid_hour_zone=3',\n",
       " 'last_login_interval_mean_by_uid',\n",
       " 'last_login_interval_min_by_uid',\n",
       " 'last_login_interval_max_by_uid',\n",
       " 'advertiser_id_by_uid']"
      ]
     },
     "execution_count": 48,
     "metadata": {},
     "output_type": "execute_result"
    }
   ],
   "source": [
    "train_feat_df.columns.tolist()"
   ]
  },
  {
   "cell_type": "code",
   "execution_count": 49,
   "metadata": {},
   "outputs": [
    {
     "data": {
      "text/plain": [
       "0.9345296830802942"
      ]
     },
     "execution_count": 49,
     "metadata": {},
     "output_type": "execute_result"
    }
   ],
   "source": [
    "roc_auc_score(adv_target_labl, adv_oof)"
   ]
  },
  {
   "cell_type": "code",
   "execution_count": 50,
   "metadata": {},
   "outputs": [
    {
     "data": {
      "text/plain": [
       "(<Figure size 504x648 with 1 Axes>,\n",
       " <matplotlib.axes._subplots.AxesSubplot at 0x7fe64f70aa90>)"
      ]
     },
     "execution_count": 50,
     "metadata": {},
     "output_type": "execute_result"
    },
    {
     "data": {
      "image/png": "[encoded data removed]",
      "text/plain": [
       "<Figure size 504x648 with 1 Axes>"
      ]
     },
     "metadata": {
      "needs_background": "light"
     },
     "output_type": "display_data"
    }
   ],
   "source": [
    "visualize_importance(adv_models, whole_feat_df)"
   ]
  },
  {
   "cell_type": "markdown",
   "metadata": {},
   "source": [
    "### ここからわかること\n",
    "\n",
    "* CountEncoding 系\n",
    "    * train / test の長さがずれていて, test にしか存在しない id は必然的に出現回数が減ってしまうのが理由の一つとして考えられます。\n",
    "* last / first login interval\n",
    "    * ユーザーごとのログインの仕方が train / test で違うっぽい? (そもそも user がかぶっていないのが原因?)\n",
    "* 集約系の特徴量\n",
    "    * groupby する key のうち train (or test) にしか存在しないものが存在しているのも理由の一つ?\n",
    "* [Adversarial feature selection | hirayuki san](https://www.guruguru.science/competitions/12/discussions/67848767-5a14-4255-ad19-69addef6582e/) でもこの notebook と同様に adversarial validation を行っています。こちらも参考にしてみると良いかもしれません。"
   ]
  },
  {
   "cell_type": "markdown",
   "metadata": {},
   "source": [
    "## Future Work\n",
    "\n",
    "* 特徴量をもっと増やす\n",
    "    * テーブルデータの分析で、もっとも大事になるのは特徴量作成の部分です。今回上げたもの以外の特徴量を試してみましょう。\n",
    "* LightGBM 以外のモデルを試す (XGBoost / Catboost / RandomForest / Linear Model)\n",
    "    * 特徴量ほど差は出ませんが LightGBM 以外のモデルを使うと性能が向上する可能性があります。\n",
    "    * モデルを変えただけで性能が上がらなくても単に平均を取ったりアンサンブルすることで性能向上する場合もあります。\n",
    "* パラメータチューニング\n",
    "    * Optuna を使ってパラメータチューニングなど考えられます、が基本的に特徴量の重要さに比べるとこちらは誤差のようなものなので、データをしっかりと見て特徴を考えるほうが優先度が高いです。"
   ]
  },
  {
   "cell_type": "markdown",
   "metadata": {},
   "source": [
    "## Appendix\n",
    "\n",
    "たとえば: `RandomForest`"
   ]
  },
  {
   "cell_type": "code",
   "execution_count": 51,
   "metadata": {},
   "outputs": [],
   "source": [
    "from sklearn.ensemble import RandomForestClassifier\n",
    "\n",
    "def fit_model(X, y, cv, model_class, params: dict=None, verbose=100):\n",
    "\n",
    "    # パラメータがないときはからの dict で置き換える\n",
    "    if params is None:\n",
    "        params = {}\n",
    "\n",
    "    models = []\n",
    "    # training data の target と同じだけのゼロ配列を用意\n",
    "    # float にしないと悲しい事件が起こるのでそこだけ注意\n",
    "    oof_pred = np.zeros_like(y, dtype=np.float)\n",
    "\n",
    "    for i, (idx_train, idx_valid) in enumerate(cv): \n",
    "        # この部分が交差検証のところです。データセットを cv instance によって分割します\n",
    "        # training data を trian/valid に分割\n",
    "        x_train, y_train = X[idx_train], y[idx_train]\n",
    "        x_valid, y_valid = X[idx_valid], y[idx_valid]\n",
    "\n",
    "        clf = model_class(**params)\n",
    "        clf.fit(x_train, y_train)\n",
    "        pred_i = clf.predict_proba(x_valid)[:, 1]\n",
    "        oof_pred[idx_valid] = pred_i\n",
    "        models.append(clf)\n",
    "\n",
    "        print(f'Fold {i} PR-AUC: {average_precision_score(y_valid, pred_i):.4f}')\n",
    "\n",
    "    score = average_precision_score(y, oof_pred)\n",
    "    print('FINISHED \\ whole score: {:.4f}'.format(score))\n",
    "    return oof_pred, models"
   ]
  },
  {
   "cell_type": "code",
   "execution_count": 52,
   "metadata": {},
   "outputs": [],
   "source": [
    "X_train_filled = train_feat_df.fillna(train_feat_df.median()).values"
   ]
  },
  {
   "cell_type": "code",
   "execution_count": 53,
   "metadata": {},
   "outputs": [
    {
     "name": "stderr",
     "output_type": "stream",
     "text": [
      "[Parallel(n_jobs=-1)]: Using backend ThreadingBackend with 32 concurrent workers.\n",
      "[Parallel(n_jobs=-1)]: Done 100 out of 100 | elapsed:   35.4s finished\n",
      "[Parallel(n_jobs=32)]: Using backend ThreadingBackend with 32 concurrent workers.\n",
      "[Parallel(n_jobs=32)]: Done 100 out of 100 | elapsed:    0.7s finished\n"
     ]
    },
    {
     "name": "stdout",
     "output_type": "stream",
     "text": [
      "Fold 0 PR-AUC: 0.1954\n"
     ]
    },
    {
     "name": "stderr",
     "output_type": "stream",
     "text": [
      "[Parallel(n_jobs=-1)]: Using backend ThreadingBackend with 32 concurrent workers.\n",
      "[Parallel(n_jobs=-1)]: Done 100 out of 100 | elapsed:   36.0s finished\n",
      "[Parallel(n_jobs=32)]: Using backend ThreadingBackend with 32 concurrent workers.\n",
      "[Parallel(n_jobs=32)]: Done 100 out of 100 | elapsed:    0.7s finished\n"
     ]
    },
    {
     "name": "stdout",
     "output_type": "stream",
     "text": [
      "Fold 1 PR-AUC: 0.1955\n"
     ]
    },
    {
     "name": "stderr",
     "output_type": "stream",
     "text": [
      "[Parallel(n_jobs=-1)]: Using backend ThreadingBackend with 32 concurrent workers.\n",
      "[Parallel(n_jobs=-1)]: Done 100 out of 100 | elapsed:   35.8s finished\n",
      "[Parallel(n_jobs=32)]: Using backend ThreadingBackend with 32 concurrent workers.\n",
      "[Parallel(n_jobs=32)]: Done 100 out of 100 | elapsed:    0.7s finished\n"
     ]
    },
    {
     "name": "stdout",
     "output_type": "stream",
     "text": [
      "Fold 2 PR-AUC: 0.1953\n"
     ]
    },
    {
     "name": "stderr",
     "output_type": "stream",
     "text": [
      "[Parallel(n_jobs=-1)]: Using backend ThreadingBackend with 32 concurrent workers.\n",
      "[Parallel(n_jobs=-1)]: Done 100 out of 100 | elapsed:   36.0s finished\n",
      "[Parallel(n_jobs=32)]: Using backend ThreadingBackend with 32 concurrent workers.\n",
      "[Parallel(n_jobs=32)]: Done 100 out of 100 | elapsed:    0.7s finished\n"
     ]
    },
    {
     "name": "stdout",
     "output_type": "stream",
     "text": [
      "Fold 3 PR-AUC: 0.1942\n"
     ]
    },
    {
     "name": "stderr",
     "output_type": "stream",
     "text": [
      "[Parallel(n_jobs=-1)]: Using backend ThreadingBackend with 32 concurrent workers.\n",
      "[Parallel(n_jobs=-1)]: Done 100 out of 100 | elapsed:   35.5s finished\n",
      "[Parallel(n_jobs=32)]: Using backend ThreadingBackend with 32 concurrent workers.\n",
      "[Parallel(n_jobs=32)]: Done 100 out of 100 | elapsed:    0.7s finished\n"
     ]
    },
    {
     "name": "stdout",
     "output_type": "stream",
     "text": [
      "Fold 4 PR-AUC: 0.1950\n",
      "FINISHED \\ whole score: 0.1950\n"
     ]
    }
   ],
   "source": [
    "params = {\n",
    "    'n_jobs': -1,\n",
    "    'verbose': 1,\n",
    "    'random_state': 71\n",
    "}\n",
    "\n",
    "oof_rf, models_rf = fit_model(X_train_filled, y, cv, RandomForestClassifier, params=params)"
   ]
  },
  {
   "cell_type": "code",
   "execution_count": 54,
   "metadata": {},
   "outputs": [],
   "source": [
    "oof_df = pd.DataFrame({\n",
    "    'lgbm': oof,\n",
    "    'rf': oof_rf\n",
    "})"
   ]
  },
  {
   "cell_type": "code",
   "execution_count": 55,
   "metadata": {},
   "outputs": [
    {
     "data": {
      "text/html": [
       "<div>\n",
       "<style scoped>\n",
       "    .dataframe tbody tr th:only-of-type {\n",
       "        vertical-align: middle;\n",
       "    }\n",
       "\n",
       "    .dataframe tbody tr th {\n",
       "        vertical-align: top;\n",
       "    }\n",
       "\n",
       "    .dataframe thead th {\n",
       "        text-align: right;\n",
       "    }\n",
       "</style>\n",
       "<table border=\"1\" class=\"dataframe\">\n",
       "  <thead>\n",
       "    <tr style=\"text-align: right;\">\n",
       "      <th></th>\n",
       "      <th>lgbm</th>\n",
       "      <th>rf</th>\n",
       "    </tr>\n",
       "  </thead>\n",
       "  <tbody>\n",
       "    <tr>\n",
       "      <th>lgbm</th>\n",
       "      <td>1.000000</td>\n",
       "      <td>0.792704</td>\n",
       "    </tr>\n",
       "    <tr>\n",
       "      <th>rf</th>\n",
       "      <td>0.792704</td>\n",
       "      <td>1.000000</td>\n",
       "    </tr>\n",
       "  </tbody>\n",
       "</table>\n",
       "</div>"
      ],
      "text/plain": [
       "          lgbm        rf\n",
       "lgbm  1.000000  0.792704\n",
       "rf    0.792704  1.000000"
      ]
     },
     "execution_count": 55,
     "metadata": {},
     "output_type": "execute_result"
    }
   ],
   "source": [
    "oof_df.corr()"
   ]
  },
  {
   "cell_type": "code",
   "execution_count": 56,
   "metadata": {},
   "outputs": [
    {
     "data": {
      "text/plain": [
       "0.2378707571865364"
      ]
     },
     "execution_count": 56,
     "metadata": {},
     "output_type": "execute_result"
    }
   ],
   "source": [
    "average_precision_score(y, oof_df.mean(axis=1).values)"
   ]
  }
 ],
 "metadata": {
  "kernelspec": {
   "display_name": "Python 3",
   "language": "python",
   "name": "python3"
  },
  "language_info": {
   "codemirror_mode": {
    "name": "ipython",
    "version": 3
   },
   "file_extension": ".py",
   "mimetype": "text/x-python",
   "name": "python",
   "nbconvert_exporter": "python",
   "pygments_lexer": "ipython3",
   "version": "3.7.7"
  }
 },
 "nbformat": 4,
 "nbformat_minor": 4
}
